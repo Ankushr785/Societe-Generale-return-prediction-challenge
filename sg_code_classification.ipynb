{
 "cells": [
  {
   "cell_type": "code",
   "execution_count": 359,
   "metadata": {},
   "outputs": [],
   "source": [
    "import pandas as pd\n",
    "import numpy as np\n",
    "import matplotlib.pyplot as plt\n",
    "import seaborn as sns\n",
    "import os\n",
    "os.chdir('/home/tinkering/Downloads/sg_challenge_2')"
   ]
  },
  {
   "cell_type": "code",
   "execution_count": 360,
   "metadata": {},
   "outputs": [],
   "source": [
    "train = pd.read_csv('train.csv')\n",
    "test = pd.read_csv('test.csv')\n",
    "submission = pd.read_csv('sample_submissions.csv')"
   ]
  },
  {
   "cell_type": "code",
   "execution_count": 361,
   "metadata": {},
   "outputs": [
    {
     "data": {
      "text/html": [
       "<div>\n",
       "<style>\n",
       "    .dataframe thead tr:only-child th {\n",
       "        text-align: right;\n",
       "    }\n",
       "\n",
       "    .dataframe thead th {\n",
       "        text-align: left;\n",
       "    }\n",
       "\n",
       "    .dataframe tbody tr th {\n",
       "        vertical-align: top;\n",
       "    }\n",
       "</style>\n",
       "<table border=\"1\" class=\"dataframe\">\n",
       "  <thead>\n",
       "    <tr style=\"text-align: right;\">\n",
       "      <th></th>\n",
       "      <th>transaction_id</th>\n",
       "      <th>num_var_1</th>\n",
       "      <th>num_var_2</th>\n",
       "      <th>num_var_3</th>\n",
       "      <th>num_var_4</th>\n",
       "      <th>num_var_5</th>\n",
       "      <th>num_var_6</th>\n",
       "      <th>num_var_7</th>\n",
       "      <th>cat_var_1</th>\n",
       "      <th>cat_var_2</th>\n",
       "      <th>...</th>\n",
       "      <th>cat_var_34</th>\n",
       "      <th>cat_var_35</th>\n",
       "      <th>cat_var_36</th>\n",
       "      <th>cat_var_37</th>\n",
       "      <th>cat_var_38</th>\n",
       "      <th>cat_var_39</th>\n",
       "      <th>cat_var_40</th>\n",
       "      <th>cat_var_41</th>\n",
       "      <th>cat_var_42</th>\n",
       "      <th>target</th>\n",
       "    </tr>\n",
       "  </thead>\n",
       "  <tbody>\n",
       "    <tr>\n",
       "      <th>0</th>\n",
       "      <td>id_11</td>\n",
       "      <td>2.302632e-08</td>\n",
       "      <td>0.040182</td>\n",
       "      <td>0.0</td>\n",
       "      <td>1.800000e-07</td>\n",
       "      <td>2.302632e-08</td>\n",
       "      <td>2.368421e-08</td>\n",
       "      <td>1.115205e-08</td>\n",
       "      <td>NaN</td>\n",
       "      <td>ce</td>\n",
       "      <td>...</td>\n",
       "      <td>0</td>\n",
       "      <td>0</td>\n",
       "      <td>0</td>\n",
       "      <td>0</td>\n",
       "      <td>0</td>\n",
       "      <td>0</td>\n",
       "      <td>0</td>\n",
       "      <td>0</td>\n",
       "      <td>0</td>\n",
       "      <td>0</td>\n",
       "    </tr>\n",
       "    <tr>\n",
       "      <th>1</th>\n",
       "      <td>id_33</td>\n",
       "      <td>7.965789e-06</td>\n",
       "      <td>0.157872</td>\n",
       "      <td>0.0</td>\n",
       "      <td>2.105000e-06</td>\n",
       "      <td>2.769737e-07</td>\n",
       "      <td>7.965789e-06</td>\n",
       "      <td>2.433058e-06</td>\n",
       "      <td>da</td>\n",
       "      <td>tn</td>\n",
       "      <td>...</td>\n",
       "      <td>0</td>\n",
       "      <td>0</td>\n",
       "      <td>0</td>\n",
       "      <td>0</td>\n",
       "      <td>0</td>\n",
       "      <td>0</td>\n",
       "      <td>0</td>\n",
       "      <td>0</td>\n",
       "      <td>0</td>\n",
       "      <td>0</td>\n",
       "    </tr>\n",
       "    <tr>\n",
       "      <th>2</th>\n",
       "      <td>id_51</td>\n",
       "      <td>7.828947e-08</td>\n",
       "      <td>0.089140</td>\n",
       "      <td>0.0</td>\n",
       "      <td>3.550000e-07</td>\n",
       "      <td>4.671053e-08</td>\n",
       "      <td>1.052632e-07</td>\n",
       "      <td>4.276014e-07</td>\n",
       "      <td>gf</td>\n",
       "      <td>ce</td>\n",
       "      <td>...</td>\n",
       "      <td>0</td>\n",
       "      <td>0</td>\n",
       "      <td>0</td>\n",
       "      <td>0</td>\n",
       "      <td>0</td>\n",
       "      <td>0</td>\n",
       "      <td>0</td>\n",
       "      <td>0</td>\n",
       "      <td>0</td>\n",
       "      <td>0</td>\n",
       "    </tr>\n",
       "    <tr>\n",
       "      <th>3</th>\n",
       "      <td>id_54</td>\n",
       "      <td>7.894737e-08</td>\n",
       "      <td>0.227239</td>\n",
       "      <td>0.0</td>\n",
       "      <td>1.050000e-06</td>\n",
       "      <td>1.381579e-07</td>\n",
       "      <td>2.190789e-07</td>\n",
       "      <td>1.848054e-08</td>\n",
       "      <td>NaN</td>\n",
       "      <td>ce</td>\n",
       "      <td>...</td>\n",
       "      <td>0</td>\n",
       "      <td>0</td>\n",
       "      <td>0</td>\n",
       "      <td>0</td>\n",
       "      <td>0</td>\n",
       "      <td>0</td>\n",
       "      <td>0</td>\n",
       "      <td>0</td>\n",
       "      <td>0</td>\n",
       "      <td>0</td>\n",
       "    </tr>\n",
       "    <tr>\n",
       "      <th>4</th>\n",
       "      <td>id_62</td>\n",
       "      <td>3.321053e-06</td>\n",
       "      <td>0.160410</td>\n",
       "      <td>0.0</td>\n",
       "      <td>2.105000e-06</td>\n",
       "      <td>2.769737e-07</td>\n",
       "      <td>3.340789e-06</td>\n",
       "      <td>2.152983e-06</td>\n",
       "      <td>da</td>\n",
       "      <td>tn</td>\n",
       "      <td>...</td>\n",
       "      <td>0</td>\n",
       "      <td>0</td>\n",
       "      <td>0</td>\n",
       "      <td>0</td>\n",
       "      <td>0</td>\n",
       "      <td>0</td>\n",
       "      <td>0</td>\n",
       "      <td>0</td>\n",
       "      <td>0</td>\n",
       "      <td>0</td>\n",
       "    </tr>\n",
       "  </tbody>\n",
       "</table>\n",
       "<p>5 rows × 51 columns</p>\n",
       "</div>"
      ],
      "text/plain": [
       "  transaction_id     num_var_1  num_var_2  num_var_3     num_var_4  \\\n",
       "0          id_11  2.302632e-08   0.040182        0.0  1.800000e-07   \n",
       "1          id_33  7.965789e-06   0.157872        0.0  2.105000e-06   \n",
       "2          id_51  7.828947e-08   0.089140        0.0  3.550000e-07   \n",
       "3          id_54  7.894737e-08   0.227239        0.0  1.050000e-06   \n",
       "4          id_62  3.321053e-06   0.160410        0.0  2.105000e-06   \n",
       "\n",
       "      num_var_5     num_var_6     num_var_7 cat_var_1 cat_var_2  ...    \\\n",
       "0  2.302632e-08  2.368421e-08  1.115205e-08       NaN        ce  ...     \n",
       "1  2.769737e-07  7.965789e-06  2.433058e-06        da        tn  ...     \n",
       "2  4.671053e-08  1.052632e-07  4.276014e-07        gf        ce  ...     \n",
       "3  1.381579e-07  2.190789e-07  1.848054e-08       NaN        ce  ...     \n",
       "4  2.769737e-07  3.340789e-06  2.152983e-06        da        tn  ...     \n",
       "\n",
       "  cat_var_34 cat_var_35 cat_var_36 cat_var_37 cat_var_38 cat_var_39  \\\n",
       "0          0          0          0          0          0          0   \n",
       "1          0          0          0          0          0          0   \n",
       "2          0          0          0          0          0          0   \n",
       "3          0          0          0          0          0          0   \n",
       "4          0          0          0          0          0          0   \n",
       "\n",
       "  cat_var_40 cat_var_41 cat_var_42 target  \n",
       "0          0          0          0      0  \n",
       "1          0          0          0      0  \n",
       "2          0          0          0      0  \n",
       "3          0          0          0      0  \n",
       "4          0          0          0      0  \n",
       "\n",
       "[5 rows x 51 columns]"
      ]
     },
     "execution_count": 361,
     "metadata": {},
     "output_type": "execute_result"
    }
   ],
   "source": [
    "train.head()"
   ]
  },
  {
   "cell_type": "code",
   "execution_count": 362,
   "metadata": {},
   "outputs": [
    {
     "data": {
      "text/plain": [
       "transaction_id    0.000000\n",
       "num_var_1         0.000000\n",
       "num_var_2         0.000000\n",
       "num_var_3         0.000000\n",
       "num_var_4         0.000000\n",
       "num_var_5         0.000000\n",
       "num_var_6         0.000000\n",
       "num_var_7         0.000000\n",
       "cat_var_1         0.045223\n",
       "cat_var_2         0.000000\n",
       "cat_var_3         0.125661\n",
       "cat_var_4         0.000000\n",
       "cat_var_5         0.000000\n",
       "cat_var_6         0.000000\n",
       "cat_var_7         0.000000\n",
       "cat_var_8         0.314455\n",
       "cat_var_9         0.000000\n",
       "cat_var_10        0.000000\n",
       "cat_var_11        0.000000\n",
       "cat_var_12        0.000000\n",
       "cat_var_13        0.000000\n",
       "cat_var_14        0.000000\n",
       "cat_var_15        0.000000\n",
       "cat_var_16        0.000000\n",
       "cat_var_17        0.000000\n",
       "cat_var_18        0.000000\n",
       "cat_var_19        0.000000\n",
       "cat_var_20        0.000000\n",
       "cat_var_21        0.000000\n",
       "cat_var_22        0.000000\n",
       "cat_var_23        0.000000\n",
       "cat_var_24        0.000000\n",
       "cat_var_25        0.000000\n",
       "cat_var_26        0.000000\n",
       "cat_var_27        0.000000\n",
       "cat_var_28        0.000000\n",
       "cat_var_29        0.000000\n",
       "cat_var_30        0.000000\n",
       "cat_var_31        0.000000\n",
       "cat_var_32        0.000000\n",
       "cat_var_33        0.000000\n",
       "cat_var_34        0.000000\n",
       "cat_var_35        0.000000\n",
       "cat_var_36        0.000000\n",
       "cat_var_37        0.000000\n",
       "cat_var_38        0.000000\n",
       "cat_var_39        0.000000\n",
       "cat_var_40        0.000000\n",
       "cat_var_41        0.000000\n",
       "cat_var_42        0.000000\n",
       "target            0.000000\n",
       "dtype: float64"
      ]
     },
     "execution_count": 362,
     "metadata": {},
     "output_type": "execute_result"
    }
   ],
   "source": [
    "train.isnull().sum()/len(train)"
   ]
  },
  {
   "cell_type": "code",
   "execution_count": 363,
   "metadata": {},
   "outputs": [],
   "source": [
    "#filling the null values with maximum values within columns\n",
    "\n",
    "train.cat_var_1 = train.cat_var_1.fillna('gf', axis = 0)\n",
    "train.cat_var_3 = train.cat_var_3.fillna('qt', axis = 0)\n",
    "train.cat_var_8 = train.cat_var_8.fillna('dn', axis = 0)\n",
    "\n",
    "test.cat_var_1 = test.cat_var_1.fillna('gf', axis = 0)\n",
    "test.cat_var_3 = test.cat_var_3.fillna('qt', axis = 0)\n",
    "test.cat_var_8 = test.cat_var_8.fillna('dn', axis = 0)\n",
    "test.cat_var_6 = test.cat_var_6.fillna('zs', axis = 0)"
   ]
  },
  {
   "cell_type": "code",
   "execution_count": 364,
   "metadata": {},
   "outputs": [
    {
     "data": {
      "text/plain": [
       "False"
      ]
     },
     "execution_count": 364,
     "metadata": {},
     "output_type": "execute_result"
    }
   ],
   "source": [
    "test.isnull().values.any()"
   ]
  },
  {
   "cell_type": "code",
   "execution_count": 365,
   "metadata": {},
   "outputs": [
    {
     "data": {
      "text/plain": [
       "0    181566\n",
       "1    167412\n",
       "Name: cat_var_20, dtype: int64"
      ]
     },
     "execution_count": 365,
     "metadata": {},
     "output_type": "execute_result"
    }
   ],
   "source": [
    "train.cat_var_20.value_counts()"
   ]
  },
  {
   "cell_type": "code",
   "execution_count": 366,
   "metadata": {},
   "outputs": [],
   "source": [
    "training_set = train.drop(labels = ['transaction_id', 'target'], axis = 1)\n",
    "test_set = test.drop(labels = ['transaction_id'], axis = 1)\n",
    "target = train['target']"
   ]
  },
  {
   "cell_type": "code",
   "execution_count": 367,
   "metadata": {},
   "outputs": [],
   "source": [
    "from sklearn.preprocessing import LabelEncoder"
   ]
  },
  {
   "cell_type": "code",
   "execution_count": 368,
   "metadata": {},
   "outputs": [
    {
     "data": {
      "text/plain": [
       "num_var_1     float64\n",
       "num_var_2     float64\n",
       "num_var_3     float64\n",
       "num_var_4     float64\n",
       "num_var_5     float64\n",
       "num_var_6     float64\n",
       "num_var_7     float64\n",
       "cat_var_1      object\n",
       "cat_var_2      object\n",
       "cat_var_3      object\n",
       "cat_var_4      object\n",
       "cat_var_5      object\n",
       "cat_var_6      object\n",
       "cat_var_7      object\n",
       "cat_var_8      object\n",
       "cat_var_9      object\n",
       "cat_var_10     object\n",
       "cat_var_11     object\n",
       "cat_var_12     object\n",
       "cat_var_13     object\n",
       "cat_var_14     object\n",
       "cat_var_15     object\n",
       "cat_var_16     object\n",
       "cat_var_17     object\n",
       "cat_var_18     object\n",
       "cat_var_19      int64\n",
       "cat_var_20      int64\n",
       "cat_var_21      int64\n",
       "cat_var_22      int64\n",
       "cat_var_23      int64\n",
       "cat_var_24      int64\n",
       "cat_var_25      int64\n",
       "cat_var_26      int64\n",
       "cat_var_27      int64\n",
       "cat_var_28      int64\n",
       "cat_var_29      int64\n",
       "cat_var_30      int64\n",
       "cat_var_31      int64\n",
       "cat_var_32      int64\n",
       "cat_var_33      int64\n",
       "cat_var_34      int64\n",
       "cat_var_35      int64\n",
       "cat_var_36      int64\n",
       "cat_var_37      int64\n",
       "cat_var_38      int64\n",
       "cat_var_39      int64\n",
       "cat_var_40      int64\n",
       "cat_var_41      int64\n",
       "cat_var_42      int64\n",
       "dtype: object"
      ]
     },
     "execution_count": 368,
     "metadata": {},
     "output_type": "execute_result"
    }
   ],
   "source": [
    "training_set.dtypes"
   ]
  },
  {
   "cell_type": "code",
   "execution_count": 369,
   "metadata": {},
   "outputs": [],
   "source": [
    "lbl = []\n",
    "for i in range(len(training_set.iloc[:,7:28].columns)):\n",
    "    lbl.append(LabelEncoder())"
   ]
  },
  {
   "cell_type": "code",
   "execution_count": 370,
   "metadata": {},
   "outputs": [],
   "source": [
    "for i in range(len(training_set.iloc[:,7:28].columns)):\n",
    "    training_set.iloc[:,i+7] = lbl[i].fit_transform(training_set.iloc[:,i+7])\n",
    "    test_set.iloc[:,i+7] = lbl[i].fit_transform(test_set.iloc[:,i+7])"
   ]
  },
  {
   "cell_type": "code",
   "execution_count": 371,
   "metadata": {},
   "outputs": [],
   "source": [
    "from sklearn.model_selection import train_test_split"
   ]
  },
  {
   "cell_type": "code",
   "execution_count": 372,
   "metadata": {},
   "outputs": [],
   "source": [
    "x_data, x_test, y_data, y_test = train_test_split(training_set, target, test_size = 0.1, random_state = 0, stratify = target)\n",
    "x_data = x_data.reset_index(drop = True)\n",
    "y_data = y_data.reset_index(drop = True)\n",
    "x_test = x_test.reset_index(drop = True)\n",
    "y_test = y_test.reset_index(drop = True)"
   ]
  },
  {
   "cell_type": "code",
   "execution_count": 373,
   "metadata": {},
   "outputs": [],
   "source": [
    "x_train, x_val, y_train, y_val = train_test_split(x_data, y_data, test_size = 0.2, random_state = 0, stratify = y_data)\n",
    "x_train = x_train.reset_index(drop = True)\n",
    "x_val = x_val.reset_index(drop = True)\n",
    "y_train = y_train.reset_index(drop = True)\n",
    "y_val = y_val.reset_index(drop = True)"
   ]
  },
  {
   "cell_type": "code",
   "execution_count": 374,
   "metadata": {},
   "outputs": [],
   "source": [
    "import xgboost as xgb"
   ]
  },
  {
   "cell_type": "code",
   "execution_count": 375,
   "metadata": {},
   "outputs": [
    {
     "name": "stdout",
     "output_type": "stream",
     "text": [
      "[0]\ttrain-auc:0.699956\teval-auc:0.693691\n",
      "[1]\ttrain-auc:0.710836\teval-auc:0.704606\n",
      "[2]\ttrain-auc:0.713732\teval-auc:0.707725\n",
      "[3]\ttrain-auc:0.713664\teval-auc:0.707549\n",
      "[4]\ttrain-auc:0.713455\teval-auc:0.707392\n",
      "[5]\ttrain-auc:0.713378\teval-auc:0.707248\n",
      "[6]\ttrain-auc:0.713979\teval-auc:0.707758\n",
      "[7]\ttrain-auc:0.714266\teval-auc:0.70793\n",
      "[8]\ttrain-auc:0.71418\teval-auc:0.707754\n",
      "[9]\ttrain-auc:0.714557\teval-auc:0.708182\n",
      "[10]\ttrain-auc:0.715406\teval-auc:0.708986\n",
      "[11]\ttrain-auc:0.715507\teval-auc:0.708999\n",
      "[12]\ttrain-auc:0.715833\teval-auc:0.710037\n",
      "[13]\ttrain-auc:0.717063\teval-auc:0.711295\n",
      "[14]\ttrain-auc:0.719905\teval-auc:0.713656\n",
      "[15]\ttrain-auc:0.719598\teval-auc:0.713632\n",
      "[16]\ttrain-auc:0.721024\teval-auc:0.714754\n",
      "[17]\ttrain-auc:0.722366\teval-auc:0.712405\n",
      "[18]\ttrain-auc:0.72221\teval-auc:0.71233\n",
      "[19]\ttrain-auc:0.722725\teval-auc:0.712427\n",
      "[20]\ttrain-auc:0.723345\teval-auc:0.712954\n",
      "[21]\ttrain-auc:0.723489\teval-auc:0.71289\n",
      "[22]\ttrain-auc:0.723674\teval-auc:0.713332\n",
      "[23]\ttrain-auc:0.724921\teval-auc:0.715155\n",
      "[24]\ttrain-auc:0.7263\teval-auc:0.716779\n",
      "[25]\ttrain-auc:0.727799\teval-auc:0.717614\n",
      "[26]\ttrain-auc:0.728071\teval-auc:0.717482\n",
      "[27]\ttrain-auc:0.728005\teval-auc:0.717424\n",
      "[28]\ttrain-auc:0.728553\teval-auc:0.717996\n",
      "[29]\ttrain-auc:0.72892\teval-auc:0.718299\n",
      "[30]\ttrain-auc:0.729154\teval-auc:0.718718\n",
      "[31]\ttrain-auc:0.729321\teval-auc:0.718745\n",
      "[32]\ttrain-auc:0.730094\teval-auc:0.719062\n",
      "[33]\ttrain-auc:0.730369\teval-auc:0.71934\n",
      "[34]\ttrain-auc:0.730784\teval-auc:0.719156\n",
      "[35]\ttrain-auc:0.731135\teval-auc:0.719103\n",
      "[36]\ttrain-auc:0.731272\teval-auc:0.718983\n",
      "[37]\ttrain-auc:0.731323\teval-auc:0.719126\n",
      "[38]\ttrain-auc:0.731297\teval-auc:0.719127\n",
      "[39]\ttrain-auc:0.731504\teval-auc:0.719218\n",
      "[40]\ttrain-auc:0.732155\teval-auc:0.719694\n",
      "[41]\ttrain-auc:0.732555\teval-auc:0.719818\n",
      "[42]\ttrain-auc:0.732652\teval-auc:0.719808\n",
      "[43]\ttrain-auc:0.732822\teval-auc:0.720035\n",
      "[44]\ttrain-auc:0.733214\teval-auc:0.720069\n",
      "[45]\ttrain-auc:0.733207\teval-auc:0.71999\n",
      "[46]\ttrain-auc:0.733521\teval-auc:0.720217\n",
      "[47]\ttrain-auc:0.734206\teval-auc:0.720287\n",
      "[48]\ttrain-auc:0.734804\teval-auc:0.720297\n",
      "[49]\ttrain-auc:0.734897\teval-auc:0.720106\n",
      "[50]\ttrain-auc:0.735597\teval-auc:0.719701\n",
      "[51]\ttrain-auc:0.735883\teval-auc:0.71948\n",
      "[52]\ttrain-auc:0.736405\teval-auc:0.719585\n",
      "[53]\ttrain-auc:0.736425\teval-auc:0.719664\n",
      "[54]\ttrain-auc:0.736437\teval-auc:0.71964\n",
      "[55]\ttrain-auc:0.736484\teval-auc:0.719706\n",
      "[56]\ttrain-auc:0.737011\teval-auc:0.719595\n",
      "[57]\ttrain-auc:0.737255\teval-auc:0.719657\n",
      "[58]\ttrain-auc:0.737653\teval-auc:0.719861\n",
      "[59]\ttrain-auc:0.737654\teval-auc:0.719806\n",
      "[60]\ttrain-auc:0.738106\teval-auc:0.719893\n",
      "[61]\ttrain-auc:0.738991\teval-auc:0.720404\n",
      "[62]\ttrain-auc:0.739035\teval-auc:0.720301\n",
      "[63]\ttrain-auc:0.739314\teval-auc:0.720272\n",
      "[64]\ttrain-auc:0.739631\teval-auc:0.72018\n",
      "[65]\ttrain-auc:0.739774\teval-auc:0.720077\n",
      "[66]\ttrain-auc:0.740536\teval-auc:0.720177\n",
      "[67]\ttrain-auc:0.740716\teval-auc:0.71989\n",
      "[68]\ttrain-auc:0.740802\teval-auc:0.719755\n",
      "[69]\ttrain-auc:0.741301\teval-auc:0.719688\n",
      "[70]\ttrain-auc:0.741392\teval-auc:0.71979\n",
      "[71]\ttrain-auc:0.742018\teval-auc:0.720132\n",
      "[72]\ttrain-auc:0.742097\teval-auc:0.720118\n",
      "[73]\ttrain-auc:0.742125\teval-auc:0.720191\n",
      "[74]\ttrain-auc:0.742321\teval-auc:0.720259\n",
      "[75]\ttrain-auc:0.742528\teval-auc:0.720438\n",
      "[76]\ttrain-auc:0.742868\teval-auc:0.720387\n",
      "[77]\ttrain-auc:0.743332\teval-auc:0.720433\n",
      "[78]\ttrain-auc:0.743448\teval-auc:0.720355\n",
      "[79]\ttrain-auc:0.743699\teval-auc:0.72043\n",
      "[80]\ttrain-auc:0.743661\teval-auc:0.720594\n",
      "[81]\ttrain-auc:0.743766\teval-auc:0.720228\n",
      "[82]\ttrain-auc:0.743779\teval-auc:0.720022\n",
      "[83]\ttrain-auc:0.743975\teval-auc:0.72012\n",
      "[84]\ttrain-auc:0.744192\teval-auc:0.720084\n",
      "[85]\ttrain-auc:0.744279\teval-auc:0.720262\n",
      "[86]\ttrain-auc:0.744554\teval-auc:0.720486\n",
      "[87]\ttrain-auc:0.744816\teval-auc:0.720584\n",
      "[88]\ttrain-auc:0.74499\teval-auc:0.720601\n",
      "[89]\ttrain-auc:0.745504\teval-auc:0.720587\n",
      "[90]\ttrain-auc:0.745848\teval-auc:0.720411\n",
      "[91]\ttrain-auc:0.746672\teval-auc:0.720778\n",
      "[92]\ttrain-auc:0.746824\teval-auc:0.720778\n",
      "[93]\ttrain-auc:0.746907\teval-auc:0.720767\n",
      "[94]\ttrain-auc:0.746907\teval-auc:0.720502\n",
      "[95]\ttrain-auc:0.747028\teval-auc:0.720525\n",
      "[96]\ttrain-auc:0.747102\teval-auc:0.720576\n",
      "[97]\ttrain-auc:0.747141\teval-auc:0.720604\n",
      "[98]\ttrain-auc:0.7472\teval-auc:0.720604\n",
      "[99]\ttrain-auc:0.74776\teval-auc:0.720835\n"
     ]
    }
   ],
   "source": [
    "params = {\"objective\":\"binary:logistic\",\n",
    "          \"booster\":\"dart\",\n",
    "          \"eta\":0.1,\n",
    "          \"max_depth\": 5,\n",
    "         \"subsample\":0.75,\n",
    "         \"silent\":0,\n",
    "         \"seed\":0,\n",
    "         \"lambda\":0.1,\n",
    "         \"alpha\":.1,\n",
    "         #'skip_drop': 0.8,\n",
    "         \"eval_metric\":\"auc\"}\n",
    "\n",
    "num_boost_round = 100\n",
    "\n",
    "dtrain = xgb.DMatrix(x_train, y_train)\n",
    "dvalid = xgb.DMatrix(x_val, y_val)\n",
    "\n",
    "watchlist = [(dtrain, 'train'), (dvalid, 'eval')]\n",
    "\n",
    "booster = xgb.train(params, dtrain, num_boost_round, evals = watchlist)"
   ]
  },
  {
   "cell_type": "code",
   "execution_count": 376,
   "metadata": {},
   "outputs": [],
   "source": [
    "from sklearn.metrics import roc_auc_score"
   ]
  },
  {
   "cell_type": "code",
   "execution_count": 377,
   "metadata": {},
   "outputs": [],
   "source": [
    "xgb_pred_train = booster.predict(xgb.DMatrix(x_train))\n",
    "xgb_pred_val = booster.predict(xgb.DMatrix(x_val))\n",
    "xgb_pred_test = booster.predict(xgb.DMatrix(x_test))"
   ]
  },
  {
   "cell_type": "code",
   "execution_count": 378,
   "metadata": {},
   "outputs": [
    {
     "name": "stdout",
     "output_type": "stream",
     "text": [
      "AUC (XGB) = 0.730000308204\n"
     ]
    }
   ],
   "source": [
    "print('AUC (XGB) =', roc_auc_score(y_test, xgb_pred_test))"
   ]
  },
  {
   "cell_type": "code",
   "execution_count": 379,
   "metadata": {},
   "outputs": [],
   "source": [
    "predictions = booster.predict(xgb.DMatrix(test_set))"
   ]
  },
  {
   "cell_type": "code",
   "execution_count": 380,
   "metadata": {},
   "outputs": [],
   "source": [
    "submission['target'] = pd.DataFrame({'target':predictions})"
   ]
  },
  {
   "cell_type": "code",
   "execution_count": 381,
   "metadata": {},
   "outputs": [],
   "source": [
    "submission.to_csv('sub2.csv', index = False)"
   ]
  },
  {
   "cell_type": "code",
   "execution_count": null,
   "metadata": {},
   "outputs": [],
   "source": []
  }
 ],
 "metadata": {
  "kernelspec": {
   "display_name": "Python 3",
   "language": "python",
   "name": "python3"
  },
  "language_info": {
   "codemirror_mode": {
    "name": "ipython",
    "version": 3
   },
   "file_extension": ".py",
   "mimetype": "text/x-python",
   "name": "python",
   "nbconvert_exporter": "python",
   "pygments_lexer": "ipython3",
   "version": "3.5.2"
  }
 },
 "nbformat": 4,
 "nbformat_minor": 2
}
