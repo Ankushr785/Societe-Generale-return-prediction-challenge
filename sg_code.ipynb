{
 "cells": [
  {
   "cell_type": "code",
   "execution_count": 357,
   "metadata": {},
   "outputs": [],
   "source": [
    "import pandas as pd\n",
    "import numpy as np\n",
    "import matplotlib.pyplot as plt\n",
    "import seaborn as sns\n",
    "import os\n",
    "os.chdir('/home/tinkering/Downloads/sg_challenge')"
   ]
  },
  {
   "cell_type": "code",
   "execution_count": 358,
   "metadata": {},
   "outputs": [],
   "source": [
    "train = pd.read_csv('train.csv')\n",
    "test = pd.read_csv('test.csv')\n",
    "submission = pd.read_csv('sample_submission.csv')"
   ]
  },
  {
   "cell_type": "code",
   "execution_count": 359,
   "metadata": {},
   "outputs": [
    {
     "data": {
      "text/html": [
       "<div>\n",
       "<style>\n",
       "    .dataframe thead tr:only-child th {\n",
       "        text-align: right;\n",
       "    }\n",
       "\n",
       "    .dataframe thead th {\n",
       "        text-align: left;\n",
       "    }\n",
       "\n",
       "    .dataframe tbody tr th {\n",
       "        vertical-align: top;\n",
       "    }\n",
       "</style>\n",
       "<table border=\"1\" class=\"dataframe\">\n",
       "  <thead>\n",
       "    <tr style=\"text-align: right;\">\n",
       "      <th></th>\n",
       "      <th>portfolio_id</th>\n",
       "      <th>desk_id</th>\n",
       "      <th>office_id</th>\n",
       "      <th>pf_category</th>\n",
       "      <th>start_date</th>\n",
       "      <th>sold</th>\n",
       "      <th>country_code</th>\n",
       "      <th>euribor_rate</th>\n",
       "      <th>currency</th>\n",
       "      <th>libor_rate</th>\n",
       "      <th>bought</th>\n",
       "      <th>creation_date</th>\n",
       "      <th>indicator_code</th>\n",
       "      <th>sell_date</th>\n",
       "      <th>type</th>\n",
       "      <th>hedge_value</th>\n",
       "      <th>status</th>\n",
       "      <th>return</th>\n",
       "    </tr>\n",
       "  </thead>\n",
       "  <tbody>\n",
       "    <tr>\n",
       "      <th>0</th>\n",
       "      <td>PF00001002</td>\n",
       "      <td>DSK00001001</td>\n",
       "      <td>OFF00001002</td>\n",
       "      <td>B</td>\n",
       "      <td>20040720</td>\n",
       "      <td>110000000.0</td>\n",
       "      <td>T</td>\n",
       "      <td>0.02074</td>\n",
       "      <td>USD</td>\n",
       "      <td>2.332216</td>\n",
       "      <td>1.098097e+08</td>\n",
       "      <td>20040720</td>\n",
       "      <td>NaN</td>\n",
       "      <td>20040812</td>\n",
       "      <td>B</td>\n",
       "      <td>NaN</td>\n",
       "      <td>NaN</td>\n",
       "      <td>0.02496</td>\n",
       "    </tr>\n",
       "    <tr>\n",
       "      <th>1</th>\n",
       "      <td>PF00001003</td>\n",
       "      <td>DSK00001002</td>\n",
       "      <td>OFF00001001</td>\n",
       "      <td>A</td>\n",
       "      <td>20040709</td>\n",
       "      <td>176671000.0</td>\n",
       "      <td>N</td>\n",
       "      <td>0.02074</td>\n",
       "      <td>GBP</td>\n",
       "      <td>5.269617</td>\n",
       "      <td>1.760084e+08</td>\n",
       "      <td>20040723</td>\n",
       "      <td>NaN</td>\n",
       "      <td>20040812</td>\n",
       "      <td>C</td>\n",
       "      <td>NaN</td>\n",
       "      <td>NaN</td>\n",
       "      <td>0.05496</td>\n",
       "    </tr>\n",
       "    <tr>\n",
       "      <th>2</th>\n",
       "      <td>PF00001005</td>\n",
       "      <td>DSK00001004</td>\n",
       "      <td>OFF00001001</td>\n",
       "      <td>A</td>\n",
       "      <td>20040723</td>\n",
       "      <td>56474000.0</td>\n",
       "      <td>T</td>\n",
       "      <td>0.02074</td>\n",
       "      <td>USD</td>\n",
       "      <td>2.332216</td>\n",
       "      <td>5.637953e+07</td>\n",
       "      <td>20040723</td>\n",
       "      <td>NaN</td>\n",
       "      <td>20040817</td>\n",
       "      <td>A</td>\n",
       "      <td>NaN</td>\n",
       "      <td>NaN</td>\n",
       "      <td>0.02496</td>\n",
       "    </tr>\n",
       "    <tr>\n",
       "      <th>3</th>\n",
       "      <td>PF00001006</td>\n",
       "      <td>DSK00001005</td>\n",
       "      <td>OFF00001001</td>\n",
       "      <td>A</td>\n",
       "      <td>20040609</td>\n",
       "      <td>164813000.0</td>\n",
       "      <td>T</td>\n",
       "      <td>0.02074</td>\n",
       "      <td>USD</td>\n",
       "      <td>2.332216</td>\n",
       "      <td>1.645088e+08</td>\n",
       "      <td>20040723</td>\n",
       "      <td>NaN</td>\n",
       "      <td>20040713</td>\n",
       "      <td>A</td>\n",
       "      <td>NaN</td>\n",
       "      <td>NaN</td>\n",
       "      <td>0.02496</td>\n",
       "    </tr>\n",
       "    <tr>\n",
       "      <th>4</th>\n",
       "      <td>PF00001007</td>\n",
       "      <td>DSK00001005</td>\n",
       "      <td>OFF00001002</td>\n",
       "      <td>B</td>\n",
       "      <td>20040609</td>\n",
       "      <td>140800000.0</td>\n",
       "      <td>T</td>\n",
       "      <td>0.02074</td>\n",
       "      <td>USD</td>\n",
       "      <td>2.332216</td>\n",
       "      <td>1.405402e+08</td>\n",
       "      <td>20040723</td>\n",
       "      <td>NaN</td>\n",
       "      <td>20040713</td>\n",
       "      <td>B</td>\n",
       "      <td>NaN</td>\n",
       "      <td>NaN</td>\n",
       "      <td>0.02496</td>\n",
       "    </tr>\n",
       "  </tbody>\n",
       "</table>\n",
       "</div>"
      ],
      "text/plain": [
       "  portfolio_id      desk_id    office_id pf_category  start_date         sold  \\\n",
       "0   PF00001002  DSK00001001  OFF00001002           B    20040720  110000000.0   \n",
       "1   PF00001003  DSK00001002  OFF00001001           A    20040709  176671000.0   \n",
       "2   PF00001005  DSK00001004  OFF00001001           A    20040723   56474000.0   \n",
       "3   PF00001006  DSK00001005  OFF00001001           A    20040609  164813000.0   \n",
       "4   PF00001007  DSK00001005  OFF00001002           B    20040609  140800000.0   \n",
       "\n",
       "  country_code  euribor_rate currency  libor_rate        bought  \\\n",
       "0            T       0.02074      USD    2.332216  1.098097e+08   \n",
       "1            N       0.02074      GBP    5.269617  1.760084e+08   \n",
       "2            T       0.02074      USD    2.332216  5.637953e+07   \n",
       "3            T       0.02074      USD    2.332216  1.645088e+08   \n",
       "4            T       0.02074      USD    2.332216  1.405402e+08   \n",
       "\n",
       "   creation_date indicator_code  sell_date type hedge_value status   return  \n",
       "0       20040720            NaN   20040812    B         NaN    NaN  0.02496  \n",
       "1       20040723            NaN   20040812    C         NaN    NaN  0.05496  \n",
       "2       20040723            NaN   20040817    A         NaN    NaN  0.02496  \n",
       "3       20040723            NaN   20040713    A         NaN    NaN  0.02496  \n",
       "4       20040723            NaN   20040713    B         NaN    NaN  0.02496  "
      ]
     },
     "execution_count": 359,
     "metadata": {},
     "output_type": "execute_result"
    }
   ],
   "source": [
    "train.head()"
   ]
  },
  {
   "cell_type": "code",
   "execution_count": 360,
   "metadata": {},
   "outputs": [
    {
     "data": {
      "text/html": [
       "<div>\n",
       "<style>\n",
       "    .dataframe thead tr:only-child th {\n",
       "        text-align: right;\n",
       "    }\n",
       "\n",
       "    .dataframe thead th {\n",
       "        text-align: left;\n",
       "    }\n",
       "\n",
       "    .dataframe tbody tr th {\n",
       "        vertical-align: top;\n",
       "    }\n",
       "</style>\n",
       "<table border=\"1\" class=\"dataframe\">\n",
       "  <thead>\n",
       "    <tr style=\"text-align: right;\">\n",
       "      <th></th>\n",
       "      <th>start_date</th>\n",
       "      <th>sold</th>\n",
       "      <th>euribor_rate</th>\n",
       "      <th>libor_rate</th>\n",
       "      <th>bought</th>\n",
       "      <th>creation_date</th>\n",
       "      <th>sell_date</th>\n",
       "      <th>return</th>\n",
       "    </tr>\n",
       "  </thead>\n",
       "  <tbody>\n",
       "    <tr>\n",
       "      <th>count</th>\n",
       "      <td>9.366000e+03</td>\n",
       "      <td>9.364000e+03</td>\n",
       "      <td>9366.000000</td>\n",
       "      <td>8892.000000</td>\n",
       "      <td>9.364000e+03</td>\n",
       "      <td>9.366000e+03</td>\n",
       "      <td>9.366000e+03</td>\n",
       "      <td>9366.000000</td>\n",
       "    </tr>\n",
       "    <tr>\n",
       "      <th>mean</th>\n",
       "      <td>2.011706e+07</td>\n",
       "      <td>1.019740e+08</td>\n",
       "      <td>0.009383</td>\n",
       "      <td>0.998066</td>\n",
       "      <td>1.018914e+08</td>\n",
       "      <td>2.011706e+07</td>\n",
       "      <td>2.011770e+07</td>\n",
       "      <td>0.014100</td>\n",
       "    </tr>\n",
       "    <tr>\n",
       "      <th>std</th>\n",
       "      <td>3.052996e+04</td>\n",
       "      <td>1.928066e+08</td>\n",
       "      <td>0.013298</td>\n",
       "      <td>1.457977</td>\n",
       "      <td>1.927472e+08</td>\n",
       "      <td>3.052372e+04</td>\n",
       "      <td>3.060900e+04</td>\n",
       "      <td>0.020549</td>\n",
       "    </tr>\n",
       "    <tr>\n",
       "      <th>min</th>\n",
       "      <td>2.004041e+07</td>\n",
       "      <td>1.100000e+00</td>\n",
       "      <td>-0.003740</td>\n",
       "      <td>-0.667095</td>\n",
       "      <td>1.099698e+00</td>\n",
       "      <td>2.004072e+07</td>\n",
       "      <td>2.004071e+07</td>\n",
       "      <td>-0.009600</td>\n",
       "    </tr>\n",
       "    <tr>\n",
       "      <th>25%</th>\n",
       "      <td>2.010020e+07</td>\n",
       "      <td>2.763200e+07</td>\n",
       "      <td>0.000980</td>\n",
       "      <td>0.244490</td>\n",
       "      <td>2.761285e+07</td>\n",
       "      <td>2.010020e+07</td>\n",
       "      <td>2.010023e+07</td>\n",
       "      <td>0.003000</td>\n",
       "    </tr>\n",
       "    <tr>\n",
       "      <th>50%</th>\n",
       "      <td>2.011120e+07</td>\n",
       "      <td>5.517050e+07</td>\n",
       "      <td>0.004390</td>\n",
       "      <td>0.531983</td>\n",
       "      <td>5.512056e+07</td>\n",
       "      <td>2.011120e+07</td>\n",
       "      <td>2.011121e+07</td>\n",
       "      <td>0.005400</td>\n",
       "    </tr>\n",
       "    <tr>\n",
       "      <th>75%</th>\n",
       "      <td>2.014071e+07</td>\n",
       "      <td>1.144632e+08</td>\n",
       "      <td>0.013510</td>\n",
       "      <td>1.109959</td>\n",
       "      <td>1.144459e+08</td>\n",
       "      <td>2.014071e+07</td>\n",
       "      <td>2.014083e+07</td>\n",
       "      <td>0.014520</td>\n",
       "    </tr>\n",
       "    <tr>\n",
       "      <th>max</th>\n",
       "      <td>2.017103e+07</td>\n",
       "      <td>1.320000e+10</td>\n",
       "      <td>0.050880</td>\n",
       "      <td>6.379137</td>\n",
       "      <td>1.320000e+10</td>\n",
       "      <td>2.017103e+07</td>\n",
       "      <td>2.017103e+07</td>\n",
       "      <td>0.778441</td>\n",
       "    </tr>\n",
       "  </tbody>\n",
       "</table>\n",
       "</div>"
      ],
      "text/plain": [
       "         start_date          sold  euribor_rate   libor_rate        bought  \\\n",
       "count  9.366000e+03  9.364000e+03   9366.000000  8892.000000  9.364000e+03   \n",
       "mean   2.011706e+07  1.019740e+08      0.009383     0.998066  1.018914e+08   \n",
       "std    3.052996e+04  1.928066e+08      0.013298     1.457977  1.927472e+08   \n",
       "min    2.004041e+07  1.100000e+00     -0.003740    -0.667095  1.099698e+00   \n",
       "25%    2.010020e+07  2.763200e+07      0.000980     0.244490  2.761285e+07   \n",
       "50%    2.011120e+07  5.517050e+07      0.004390     0.531983  5.512056e+07   \n",
       "75%    2.014071e+07  1.144632e+08      0.013510     1.109959  1.144459e+08   \n",
       "max    2.017103e+07  1.320000e+10      0.050880     6.379137  1.320000e+10   \n",
       "\n",
       "       creation_date     sell_date       return  \n",
       "count   9.366000e+03  9.366000e+03  9366.000000  \n",
       "mean    2.011706e+07  2.011770e+07     0.014100  \n",
       "std     3.052372e+04  3.060900e+04     0.020549  \n",
       "min     2.004072e+07  2.004071e+07    -0.009600  \n",
       "25%     2.010020e+07  2.010023e+07     0.003000  \n",
       "50%     2.011120e+07  2.011121e+07     0.005400  \n",
       "75%     2.014071e+07  2.014083e+07     0.014520  \n",
       "max     2.017103e+07  2.017103e+07     0.778441  "
      ]
     },
     "execution_count": 360,
     "metadata": {},
     "output_type": "execute_result"
    }
   ],
   "source": [
    "train.describe()"
   ]
  },
  {
   "cell_type": "code",
   "execution_count": 361,
   "metadata": {},
   "outputs": [
    {
     "data": {
      "text/plain": [
       "portfolio_id         0\n",
       "desk_id           3665\n",
       "office_id            0\n",
       "pf_category          0\n",
       "start_date           0\n",
       "sold                 2\n",
       "country_code         0\n",
       "euribor_rate         0\n",
       "currency             0\n",
       "libor_rate         474\n",
       "bought               2\n",
       "creation_date        0\n",
       "indicator_code    5699\n",
       "sell_date            0\n",
       "type                 0\n",
       "hedge_value       5701\n",
       "status            3084\n",
       "return               0\n",
       "dtype: int64"
      ]
     },
     "execution_count": 361,
     "metadata": {},
     "output_type": "execute_result"
    }
   ],
   "source": [
    "train.isnull().sum()"
   ]
  },
  {
   "cell_type": "code",
   "execution_count": 362,
   "metadata": {},
   "outputs": [
    {
     "data": {
      "text/plain": [
       "portfolio_id         0\n",
       "desk_id           1948\n",
       "office_id            0\n",
       "pf_category          0\n",
       "start_date           0\n",
       "sold                 0\n",
       "country_code         0\n",
       "euribor_rate         0\n",
       "currency             0\n",
       "libor_rate         265\n",
       "bought               0\n",
       "creation_date        0\n",
       "indicator_code    2851\n",
       "sell_date            0\n",
       "type                 0\n",
       "hedge_value       2851\n",
       "status            1457\n",
       "dtype: int64"
      ]
     },
     "execution_count": 362,
     "metadata": {},
     "output_type": "execute_result"
    }
   ],
   "source": [
    "test.isnull().sum()"
   ]
  },
  {
   "cell_type": "code",
   "execution_count": 363,
   "metadata": {},
   "outputs": [],
   "source": [
    "#convert dates to strings\n",
    "\n",
    "train.start_date = train.start_date.astype(str)\n",
    "test.start_date = test.start_date.astype(str)\n",
    "\n",
    "train.creation_date = train.creation_date.astype(str)\n",
    "test.creation_date = test.creation_date.astype(str)\n",
    "\n",
    "train.sell_date = train.sell_date.astype(str)\n",
    "test.sell_date = test.sell_date.astype(str)"
   ]
  },
  {
   "cell_type": "code",
   "execution_count": 364,
   "metadata": {},
   "outputs": [],
   "source": [
    "#convert dates to standard datetime format\n",
    "\n",
    "def info_from_date(x):\n",
    "    x = x[:4] + '-' + x[4:6] + '-' + x[6:]\n",
    "    return x\n",
    "\n",
    "train.start_date = pd.to_datetime(train.start_date.map(lambda x:info_from_date(x)))\n",
    "test.start_date = pd.to_datetime(test.start_date.map(lambda x:info_from_date(x)))\n",
    "\n",
    "train.creation_date = pd.to_datetime(train.creation_date.map(lambda x:info_from_date(x)))\n",
    "test.creation_date = pd.to_datetime(test.creation_date.map(lambda x:info_from_date(x)))\n",
    "\n",
    "\n",
    "train.sell_date = pd.to_datetime(train.sell_date.map(lambda x:info_from_date(x)))\n",
    "test.sell_date = pd.to_datetime(test.sell_date.map(lambda x:info_from_date(x)))"
   ]
  },
  {
   "cell_type": "code",
   "execution_count": 365,
   "metadata": {},
   "outputs": [
    {
     "data": {
      "text/plain": [
       "portfolio_id              object\n",
       "desk_id                   object\n",
       "office_id                 object\n",
       "pf_category               object\n",
       "start_date        datetime64[ns]\n",
       "sold                     float64\n",
       "country_code              object\n",
       "euribor_rate             float64\n",
       "currency                  object\n",
       "libor_rate               float64\n",
       "bought                   float64\n",
       "creation_date     datetime64[ns]\n",
       "indicator_code            object\n",
       "sell_date         datetime64[ns]\n",
       "type                      object\n",
       "hedge_value               object\n",
       "status                    object\n",
       "return                   float64\n",
       "dtype: object"
      ]
     },
     "execution_count": 365,
     "metadata": {},
     "output_type": "execute_result"
    }
   ],
   "source": [
    "train.dtypes"
   ]
  },
  {
   "cell_type": "code",
   "execution_count": 366,
   "metadata": {},
   "outputs": [],
   "source": [
    "training_set = train.drop(labels = ['portfolio_id', 'desk_id', 'indicator_code', 'hedge_value', 'status'], axis = 1)\n",
    "test_set = test.drop(labels = ['portfolio_id', 'desk_id', 'indicator_code', 'hedge_value', 'status'], axis = 1)"
   ]
  },
  {
   "cell_type": "code",
   "execution_count": 367,
   "metadata": {},
   "outputs": [
    {
     "data": {
      "text/html": [
       "<div>\n",
       "<style>\n",
       "    .dataframe thead tr:only-child th {\n",
       "        text-align: right;\n",
       "    }\n",
       "\n",
       "    .dataframe thead th {\n",
       "        text-align: left;\n",
       "    }\n",
       "\n",
       "    .dataframe tbody tr th {\n",
       "        vertical-align: top;\n",
       "    }\n",
       "</style>\n",
       "<table border=\"1\" class=\"dataframe\">\n",
       "  <thead>\n",
       "    <tr style=\"text-align: right;\">\n",
       "      <th></th>\n",
       "      <th>office_id</th>\n",
       "      <th>pf_category</th>\n",
       "      <th>start_date</th>\n",
       "      <th>sold</th>\n",
       "      <th>country_code</th>\n",
       "      <th>euribor_rate</th>\n",
       "      <th>currency</th>\n",
       "      <th>libor_rate</th>\n",
       "      <th>bought</th>\n",
       "      <th>creation_date</th>\n",
       "      <th>sell_date</th>\n",
       "      <th>type</th>\n",
       "      <th>return</th>\n",
       "    </tr>\n",
       "  </thead>\n",
       "  <tbody>\n",
       "    <tr>\n",
       "      <th>0</th>\n",
       "      <td>OFF00001002</td>\n",
       "      <td>B</td>\n",
       "      <td>2004-07-20</td>\n",
       "      <td>110000000.0</td>\n",
       "      <td>T</td>\n",
       "      <td>0.02074</td>\n",
       "      <td>USD</td>\n",
       "      <td>2.332216</td>\n",
       "      <td>1.098097e+08</td>\n",
       "      <td>2004-07-20</td>\n",
       "      <td>2004-08-12</td>\n",
       "      <td>B</td>\n",
       "      <td>0.02496</td>\n",
       "    </tr>\n",
       "    <tr>\n",
       "      <th>1</th>\n",
       "      <td>OFF00001001</td>\n",
       "      <td>A</td>\n",
       "      <td>2004-07-09</td>\n",
       "      <td>176671000.0</td>\n",
       "      <td>N</td>\n",
       "      <td>0.02074</td>\n",
       "      <td>GBP</td>\n",
       "      <td>5.269617</td>\n",
       "      <td>1.760084e+08</td>\n",
       "      <td>2004-07-23</td>\n",
       "      <td>2004-08-12</td>\n",
       "      <td>C</td>\n",
       "      <td>0.05496</td>\n",
       "    </tr>\n",
       "    <tr>\n",
       "      <th>2</th>\n",
       "      <td>OFF00001001</td>\n",
       "      <td>A</td>\n",
       "      <td>2004-07-23</td>\n",
       "      <td>56474000.0</td>\n",
       "      <td>T</td>\n",
       "      <td>0.02074</td>\n",
       "      <td>USD</td>\n",
       "      <td>2.332216</td>\n",
       "      <td>5.637953e+07</td>\n",
       "      <td>2004-07-23</td>\n",
       "      <td>2004-08-17</td>\n",
       "      <td>A</td>\n",
       "      <td>0.02496</td>\n",
       "    </tr>\n",
       "    <tr>\n",
       "      <th>3</th>\n",
       "      <td>OFF00001001</td>\n",
       "      <td>A</td>\n",
       "      <td>2004-06-09</td>\n",
       "      <td>164813000.0</td>\n",
       "      <td>T</td>\n",
       "      <td>0.02074</td>\n",
       "      <td>USD</td>\n",
       "      <td>2.332216</td>\n",
       "      <td>1.645088e+08</td>\n",
       "      <td>2004-07-23</td>\n",
       "      <td>2004-07-13</td>\n",
       "      <td>A</td>\n",
       "      <td>0.02496</td>\n",
       "    </tr>\n",
       "    <tr>\n",
       "      <th>4</th>\n",
       "      <td>OFF00001002</td>\n",
       "      <td>B</td>\n",
       "      <td>2004-06-09</td>\n",
       "      <td>140800000.0</td>\n",
       "      <td>T</td>\n",
       "      <td>0.02074</td>\n",
       "      <td>USD</td>\n",
       "      <td>2.332216</td>\n",
       "      <td>1.405402e+08</td>\n",
       "      <td>2004-07-23</td>\n",
       "      <td>2004-07-13</td>\n",
       "      <td>B</td>\n",
       "      <td>0.02496</td>\n",
       "    </tr>\n",
       "  </tbody>\n",
       "</table>\n",
       "</div>"
      ],
      "text/plain": [
       "     office_id pf_category start_date         sold country_code  euribor_rate  \\\n",
       "0  OFF00001002           B 2004-07-20  110000000.0            T       0.02074   \n",
       "1  OFF00001001           A 2004-07-09  176671000.0            N       0.02074   \n",
       "2  OFF00001001           A 2004-07-23   56474000.0            T       0.02074   \n",
       "3  OFF00001001           A 2004-06-09  164813000.0            T       0.02074   \n",
       "4  OFF00001002           B 2004-06-09  140800000.0            T       0.02074   \n",
       "\n",
       "  currency  libor_rate        bought creation_date  sell_date type   return  \n",
       "0      USD    2.332216  1.098097e+08    2004-07-20 2004-08-12    B  0.02496  \n",
       "1      GBP    5.269617  1.760084e+08    2004-07-23 2004-08-12    C  0.05496  \n",
       "2      USD    2.332216  5.637953e+07    2004-07-23 2004-08-17    A  0.02496  \n",
       "3      USD    2.332216  1.645088e+08    2004-07-23 2004-07-13    A  0.02496  \n",
       "4      USD    2.332216  1.405402e+08    2004-07-23 2004-07-13    B  0.02496  "
      ]
     },
     "execution_count": 367,
     "metadata": {},
     "output_type": "execute_result"
    }
   ],
   "source": [
    "training_set.head()"
   ]
  },
  {
   "cell_type": "code",
   "execution_count": 368,
   "metadata": {},
   "outputs": [
    {
     "data": {
      "text/plain": [
       "OFF00001002    6458\n",
       "OFF00001001    2908\n",
       "Name: office_id, dtype: int64"
      ]
     },
     "execution_count": 368,
     "metadata": {},
     "output_type": "execute_result"
    }
   ],
   "source": [
    "training_set.office_id.value_counts()"
   ]
  },
  {
   "cell_type": "code",
   "execution_count": 369,
   "metadata": {},
   "outputs": [
    {
     "data": {
      "text/plain": [
       "OFF00001002    3300\n",
       "OFF00001001    1501\n",
       "Name: office_id, dtype: int64"
      ]
     },
     "execution_count": 369,
     "metadata": {},
     "output_type": "execute_result"
    }
   ],
   "source": [
    "test_set.office_id.value_counts()"
   ]
  },
  {
   "cell_type": "code",
   "execution_count": 370,
   "metadata": {},
   "outputs": [],
   "source": [
    "from sklearn.preprocessing import LabelEncoder"
   ]
  },
  {
   "cell_type": "code",
   "execution_count": 371,
   "metadata": {},
   "outputs": [],
   "source": [
    "lbl_office = LabelEncoder()\n",
    "lbl_pf = LabelEncoder()\n",
    "lbl_country = LabelEncoder()\n",
    "lbl_currency = LabelEncoder()\n",
    "lbl_type = LabelEncoder()"
   ]
  },
  {
   "cell_type": "code",
   "execution_count": 372,
   "metadata": {},
   "outputs": [],
   "source": [
    "training_set.office_id = lbl_office.fit_transform(training_set.office_id)\n",
    "test_set.office_id = lbl_office.transform(test_set.office_id)\n",
    "\n",
    "training_set.pf_category = lbl_pf.fit_transform(training_set.pf_category)\n",
    "test_set.pf_category = lbl_pf.transform(test_set.pf_category)\n",
    "\n",
    "training_set.country_code = lbl_country.fit_transform(training_set.country_code)\n",
    "test_set.country_code = lbl_country.transform(test_set.country_code)\n",
    "\n",
    "training_set.currency = lbl_currency.fit_transform(training_set.currency)\n",
    "test_set.currency = lbl_currency.transform(test_set.currency)\n",
    "\n",
    "training_set.type = lbl_type.fit_transform(training_set.type)\n",
    "test_set.type = lbl_type.transform(test_set.type)"
   ]
  },
  {
   "cell_type": "code",
   "execution_count": 373,
   "metadata": {},
   "outputs": [
    {
     "data": {
      "text/html": [
       "<div>\n",
       "<style>\n",
       "    .dataframe thead tr:only-child th {\n",
       "        text-align: right;\n",
       "    }\n",
       "\n",
       "    .dataframe thead th {\n",
       "        text-align: left;\n",
       "    }\n",
       "\n",
       "    .dataframe tbody tr th {\n",
       "        vertical-align: top;\n",
       "    }\n",
       "</style>\n",
       "<table border=\"1\" class=\"dataframe\">\n",
       "  <thead>\n",
       "    <tr style=\"text-align: right;\">\n",
       "      <th></th>\n",
       "      <th>office_id</th>\n",
       "      <th>pf_category</th>\n",
       "      <th>start_date</th>\n",
       "      <th>sold</th>\n",
       "      <th>country_code</th>\n",
       "      <th>euribor_rate</th>\n",
       "      <th>currency</th>\n",
       "      <th>libor_rate</th>\n",
       "      <th>bought</th>\n",
       "      <th>creation_date</th>\n",
       "      <th>sell_date</th>\n",
       "      <th>type</th>\n",
       "      <th>return</th>\n",
       "    </tr>\n",
       "  </thead>\n",
       "  <tbody>\n",
       "    <tr>\n",
       "      <th>0</th>\n",
       "      <td>1</td>\n",
       "      <td>1</td>\n",
       "      <td>2004-07-20</td>\n",
       "      <td>110000000.0</td>\n",
       "      <td>2</td>\n",
       "      <td>0.02074</td>\n",
       "      <td>4</td>\n",
       "      <td>2.332216</td>\n",
       "      <td>1.098097e+08</td>\n",
       "      <td>2004-07-20</td>\n",
       "      <td>2004-08-12</td>\n",
       "      <td>1</td>\n",
       "      <td>0.02496</td>\n",
       "    </tr>\n",
       "    <tr>\n",
       "      <th>1</th>\n",
       "      <td>0</td>\n",
       "      <td>0</td>\n",
       "      <td>2004-07-09</td>\n",
       "      <td>176671000.0</td>\n",
       "      <td>1</td>\n",
       "      <td>0.02074</td>\n",
       "      <td>2</td>\n",
       "      <td>5.269617</td>\n",
       "      <td>1.760084e+08</td>\n",
       "      <td>2004-07-23</td>\n",
       "      <td>2004-08-12</td>\n",
       "      <td>2</td>\n",
       "      <td>0.05496</td>\n",
       "    </tr>\n",
       "    <tr>\n",
       "      <th>2</th>\n",
       "      <td>0</td>\n",
       "      <td>0</td>\n",
       "      <td>2004-07-23</td>\n",
       "      <td>56474000.0</td>\n",
       "      <td>2</td>\n",
       "      <td>0.02074</td>\n",
       "      <td>4</td>\n",
       "      <td>2.332216</td>\n",
       "      <td>5.637953e+07</td>\n",
       "      <td>2004-07-23</td>\n",
       "      <td>2004-08-17</td>\n",
       "      <td>0</td>\n",
       "      <td>0.02496</td>\n",
       "    </tr>\n",
       "    <tr>\n",
       "      <th>3</th>\n",
       "      <td>0</td>\n",
       "      <td>0</td>\n",
       "      <td>2004-06-09</td>\n",
       "      <td>164813000.0</td>\n",
       "      <td>2</td>\n",
       "      <td>0.02074</td>\n",
       "      <td>4</td>\n",
       "      <td>2.332216</td>\n",
       "      <td>1.645088e+08</td>\n",
       "      <td>2004-07-23</td>\n",
       "      <td>2004-07-13</td>\n",
       "      <td>0</td>\n",
       "      <td>0.02496</td>\n",
       "    </tr>\n",
       "    <tr>\n",
       "      <th>4</th>\n",
       "      <td>1</td>\n",
       "      <td>1</td>\n",
       "      <td>2004-06-09</td>\n",
       "      <td>140800000.0</td>\n",
       "      <td>2</td>\n",
       "      <td>0.02074</td>\n",
       "      <td>4</td>\n",
       "      <td>2.332216</td>\n",
       "      <td>1.405402e+08</td>\n",
       "      <td>2004-07-23</td>\n",
       "      <td>2004-07-13</td>\n",
       "      <td>1</td>\n",
       "      <td>0.02496</td>\n",
       "    </tr>\n",
       "  </tbody>\n",
       "</table>\n",
       "</div>"
      ],
      "text/plain": [
       "   office_id  pf_category start_date         sold  country_code  euribor_rate  \\\n",
       "0          1            1 2004-07-20  110000000.0             2       0.02074   \n",
       "1          0            0 2004-07-09  176671000.0             1       0.02074   \n",
       "2          0            0 2004-07-23   56474000.0             2       0.02074   \n",
       "3          0            0 2004-06-09  164813000.0             2       0.02074   \n",
       "4          1            1 2004-06-09  140800000.0             2       0.02074   \n",
       "\n",
       "   currency  libor_rate        bought creation_date  sell_date  type   return  \n",
       "0         4    2.332216  1.098097e+08    2004-07-20 2004-08-12     1  0.02496  \n",
       "1         2    5.269617  1.760084e+08    2004-07-23 2004-08-12     2  0.05496  \n",
       "2         4    2.332216  5.637953e+07    2004-07-23 2004-08-17     0  0.02496  \n",
       "3         4    2.332216  1.645088e+08    2004-07-23 2004-07-13     0  0.02496  \n",
       "4         4    2.332216  1.405402e+08    2004-07-23 2004-07-13     1  0.02496  "
      ]
     },
     "execution_count": 373,
     "metadata": {},
     "output_type": "execute_result"
    }
   ],
   "source": [
    "training_set.head()"
   ]
  },
  {
   "cell_type": "code",
   "execution_count": 374,
   "metadata": {},
   "outputs": [],
   "source": [
    "training_set['start_year'] = training_set.start_date.dt.year\n",
    "training_set['start_month'] = training_set.start_date.dt.month\n",
    "training_set['start_week'] = training_set.start_date.dt.week\n",
    "training_set['start_day'] = training_set.start_date.dt.day\n",
    "\n",
    "test_set['start_year'] = test_set.start_date.dt.year\n",
    "test_set['start_month'] = test_set.start_date.dt.month\n",
    "test_set['start_week'] = test_set.start_date.dt.week\n",
    "test_set['start_day'] = test_set.start_date.dt.day"
   ]
  },
  {
   "cell_type": "code",
   "execution_count": 375,
   "metadata": {},
   "outputs": [],
   "source": [
    "training_set['creation_year'] = training_set.creation_date.dt.year\n",
    "training_set['creation_month'] = training_set.creation_date.dt.month\n",
    "training_set['creation_week'] = training_set.creation_date.dt.week\n",
    "training_set['creation_day'] = training_set.creation_date.dt.day\n",
    "\n",
    "test_set['creation_year'] = test_set.creation_date.dt.year\n",
    "test_set['creation_month'] = test_set.creation_date.dt.month\n",
    "test_set['creation_week'] = test_set.creation_date.dt.week\n",
    "test_set['creation_day'] = test_set.creation_date.dt.day"
   ]
  },
  {
   "cell_type": "code",
   "execution_count": 376,
   "metadata": {},
   "outputs": [],
   "source": [
    "training_set['sell_year'] = training_set.sell_date.dt.year\n",
    "training_set['sell_month'] = training_set.sell_date.dt.month\n",
    "training_set['sell_week'] = training_set.sell_date.dt.week\n",
    "training_set['sell_day'] = training_set.sell_date.dt.day\n",
    "\n",
    "test_set['sell_year'] = test_set.sell_date.dt.year\n",
    "test_set['sell_month'] = test_set.sell_date.dt.month\n",
    "test_set['sell_week'] = test_set.sell_date.dt.week\n",
    "test_set['sell_day'] = test_set.sell_date.dt.day"
   ]
  },
  {
   "cell_type": "code",
   "execution_count": 377,
   "metadata": {},
   "outputs": [],
   "source": [
    "#Country code and currency are the same variables\n",
    "\n",
    "training_set = training_set.drop(labels = ['start_date', 'creation_date', 'sell_date', 'return', 'currency'], axis = 1)\n",
    "test_set = test_set.drop(labels = ['start_date', 'creation_date', 'sell_date', 'currency'], axis = 1)\n",
    "target = train['return']"
   ]
  },
  {
   "cell_type": "code",
   "execution_count": 378,
   "metadata": {},
   "outputs": [],
   "source": [
    "from sklearn.model_selection import train_test_split"
   ]
  },
  {
   "cell_type": "code",
   "execution_count": 379,
   "metadata": {},
   "outputs": [],
   "source": [
    "x_data, x_test, y_data, y_test = train_test_split(training_set, target, test_size = 0.1, random_state = 0)\n",
    "x_data = x_data.reset_index(drop = True)\n",
    "y_data = y_data.reset_index(drop = True)\n",
    "x_test = x_test.reset_index(drop = True)\n",
    "y_test = y_test.reset_index(drop = True)"
   ]
  },
  {
   "cell_type": "code",
   "execution_count": 380,
   "metadata": {},
   "outputs": [],
   "source": [
    "x_train, x_val, y_train, y_val = train_test_split(x_data, y_data, test_size = 0.25, random_state = 0)\n",
    "x_train = x_train.reset_index(drop = True)\n",
    "x_val = x_val.reset_index(drop = True)\n",
    "y_train = y_train.reset_index(drop = True)\n",
    "y_val = y_val.reset_index(drop = True)"
   ]
  },
  {
   "cell_type": "code",
   "execution_count": 381,
   "metadata": {},
   "outputs": [
    {
     "data": {
      "image/png": "[encoded data removed]",
      "text/plain": [
       "<matplotlib.figure.Figure at 0x7fe6da6d1d68>"
      ]
     },
     "metadata": {},
     "output_type": "display_data"
    }
   ],
   "source": [
    "#distribution of returns\n",
    "plt.figure(figsize = (12, 8))\n",
    "plt.title('Distribution of returns')\n",
    "sns.kdeplot(target)\n",
    "plt.show()"
   ]
  },
  {
   "cell_type": "code",
   "execution_count": 383,
   "metadata": {},
   "outputs": [
    {
     "data": {
      "image/png": "[encoded data removed]",
      "text/plain": [
       "<matplotlib.figure.Figure at 0x7fe6d9ba9b38>"
      ]
     },
     "metadata": {},
     "output_type": "display_data"
    }
   ],
   "source": [
    "sns.barplot(x_train['office_id'], y_train, hue = x_train.pf_category)\n",
    "plt.title('Barplot of return vs office_id')\n",
    "plt.show()"
   ]
  },
  {
   "cell_type": "code",
   "execution_count": 384,
   "metadata": {},
   "outputs": [
    {
     "data": {
      "image/png": "[encoded data removed]",
      "text/plain": [
       "<matplotlib.figure.Figure at 0x7fe6da8d6710>"
      ]
     },
     "metadata": {},
     "output_type": "display_data"
    }
   ],
   "source": [
    "sns.barplot(x_train['office_id'], y_train, hue = x_train.country_code)\n",
    "plt.title('Barplot of return vs office_id')\n",
    "plt.show()"
   ]
  },
  {
   "cell_type": "code",
   "execution_count": 385,
   "metadata": {},
   "outputs": [
    {
     "data": {
      "image/png": "[encoded data removed]",
      "text/plain": [
       "<matplotlib.figure.Figure at 0x7fe6d9ba8198>"
      ]
     },
     "metadata": {},
     "output_type": "display_data"
    }
   ],
   "source": [
    "sns.barplot(x_train['office_id'], y_train, hue = x_train.type)\n",
    "plt.title('Barplot of return vs office_id')\n",
    "plt.show()"
   ]
  },
  {
   "cell_type": "code",
   "execution_count": 390,
   "metadata": {},
   "outputs": [
    {
     "data": {
      "image/png": "[encoded data removed]",
      "text/plain": [
       "<matplotlib.figure.Figure at 0x7fe6d8f8de48>"
      ]
     },
     "metadata": {},
     "output_type": "display_data"
    }
   ],
   "source": [
    "sns.barplot(x_train['pf_category'], y_train, hue = x_train.country_code)\n",
    "plt.title('Barplot of return vs pf_category')\n",
    "plt.show()"
   ]
  },
  {
   "cell_type": "code",
   "execution_count": 391,
   "metadata": {},
   "outputs": [
    {
     "data": {
      "image/png": "[encoded data removed]",
      "text/plain": [
       "<matplotlib.figure.Figure at 0x7fe6d9cbc860>"
      ]
     },
     "metadata": {},
     "output_type": "display_data"
    }
   ],
   "source": [
    "plt.figure(figsize = (14, 10))\n",
    "sns.barplot(x_train['pf_category'], y_train, hue = x_train.type)\n",
    "plt.title('Barplot of return vs pf_category')\n",
    "plt.show()"
   ]
  },
  {
   "cell_type": "code",
   "execution_count": 382,
   "metadata": {},
   "outputs": [
    {
     "data": {
      "text/plain": [
       "office_id           int64\n",
       "pf_category         int64\n",
       "sold              float64\n",
       "country_code        int64\n",
       "euribor_rate      float64\n",
       "libor_rate        float64\n",
       "bought            float64\n",
       "type                int64\n",
       "start_year          int64\n",
       "start_month         int64\n",
       "start_week          int64\n",
       "start_day           int64\n",
       "creation_year       int64\n",
       "creation_month      int64\n",
       "creation_week       int64\n",
       "creation_day        int64\n",
       "sell_year           int64\n",
       "sell_month          int64\n",
       "sell_week           int64\n",
       "sell_day            int64\n",
       "dtype: object"
      ]
     },
     "execution_count": 382,
     "metadata": {},
     "output_type": "execute_result"
    }
   ],
   "source": [
    "training_set.dtypes"
   ]
  },
  {
   "cell_type": "code",
   "execution_count": 389,
   "metadata": {},
   "outputs": [
    {
     "data": {
      "image/png": "[encoded data removed]",
      "text/plain": [
       "<matplotlib.figure.Figure at 0x7fe6d9ddd470>"
      ]
     },
     "metadata": {},
     "output_type": "display_data"
    }
   ],
   "source": [
    "plt.figure(figsize = (12, 8))\n",
    "sns.barplot(x_train.start_year, y_train, hue = x_train.office_id)\n",
    "plt.title('Barplot of returns vs start year')\n",
    "plt.show()"
   ]
  },
  {
   "cell_type": "code",
   "execution_count": null,
   "metadata": {},
   "outputs": [],
   "source": []
  }
 ],
 "metadata": {
  "kernelspec": {
   "display_name": "Python 3",
   "language": "python",
   "name": "python3"
  },
  "language_info": {
   "codemirror_mode": {
    "name": "ipython",
    "version": 3
   },
   "file_extension": ".py",
   "mimetype": "text/x-python",
   "name": "python",
   "nbconvert_exporter": "python",
   "pygments_lexer": "ipython3",
   "version": "3.5.2"
  }
 },
 "nbformat": 4,
 "nbformat_minor": 2
}
