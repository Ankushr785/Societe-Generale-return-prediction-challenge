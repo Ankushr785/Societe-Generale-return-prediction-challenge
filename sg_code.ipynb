{
 "cells": [
  {
   "cell_type": "code",
   "execution_count": 1824,
   "metadata": {},
   "outputs": [],
   "source": [
    "import pandas as pd\n",
    "import numpy as np\n",
    "import matplotlib.pyplot as plt\n",
    "import seaborn as sns\n",
    "import os\n",
    "os.chdir('/home/tinkering/Downloads/sg_challenge')"
   ]
  },
  {
   "cell_type": "code",
   "execution_count": 1825,
   "metadata": {},
   "outputs": [],
   "source": [
    "train = pd.read_csv('train.csv')\n",
    "test = pd.read_csv('test.csv')\n",
    "submission = pd.read_csv('sample_submission.csv')"
   ]
  },
  {
   "cell_type": "code",
   "execution_count": 1826,
   "metadata": {},
   "outputs": [
    {
     "data": {
      "text/html": [
       "<div>\n",
       "<style>\n",
       "    .dataframe thead tr:only-child th {\n",
       "        text-align: right;\n",
       "    }\n",
       "\n",
       "    .dataframe thead th {\n",
       "        text-align: left;\n",
       "    }\n",
       "\n",
       "    .dataframe tbody tr th {\n",
       "        vertical-align: top;\n",
       "    }\n",
       "</style>\n",
       "<table border=\"1\" class=\"dataframe\">\n",
       "  <thead>\n",
       "    <tr style=\"text-align: right;\">\n",
       "      <th></th>\n",
       "      <th>portfolio_id</th>\n",
       "      <th>desk_id</th>\n",
       "      <th>office_id</th>\n",
       "      <th>pf_category</th>\n",
       "      <th>start_date</th>\n",
       "      <th>sold</th>\n",
       "      <th>country_code</th>\n",
       "      <th>euribor_rate</th>\n",
       "      <th>currency</th>\n",
       "      <th>libor_rate</th>\n",
       "      <th>bought</th>\n",
       "      <th>creation_date</th>\n",
       "      <th>indicator_code</th>\n",
       "      <th>sell_date</th>\n",
       "      <th>type</th>\n",
       "      <th>hedge_value</th>\n",
       "      <th>status</th>\n",
       "      <th>return</th>\n",
       "    </tr>\n",
       "  </thead>\n",
       "  <tbody>\n",
       "    <tr>\n",
       "      <th>0</th>\n",
       "      <td>PF00001002</td>\n",
       "      <td>DSK00001001</td>\n",
       "      <td>OFF00001002</td>\n",
       "      <td>B</td>\n",
       "      <td>20040720</td>\n",
       "      <td>110000000.0</td>\n",
       "      <td>T</td>\n",
       "      <td>0.02074</td>\n",
       "      <td>USD</td>\n",
       "      <td>2.332216</td>\n",
       "      <td>1.098097e+08</td>\n",
       "      <td>20040720</td>\n",
       "      <td>NaN</td>\n",
       "      <td>20040812</td>\n",
       "      <td>B</td>\n",
       "      <td>NaN</td>\n",
       "      <td>NaN</td>\n",
       "      <td>0.02496</td>\n",
       "    </tr>\n",
       "    <tr>\n",
       "      <th>1</th>\n",
       "      <td>PF00001003</td>\n",
       "      <td>DSK00001002</td>\n",
       "      <td>OFF00001001</td>\n",
       "      <td>A</td>\n",
       "      <td>20040709</td>\n",
       "      <td>176671000.0</td>\n",
       "      <td>N</td>\n",
       "      <td>0.02074</td>\n",
       "      <td>GBP</td>\n",
       "      <td>5.269617</td>\n",
       "      <td>1.760084e+08</td>\n",
       "      <td>20040723</td>\n",
       "      <td>NaN</td>\n",
       "      <td>20040812</td>\n",
       "      <td>C</td>\n",
       "      <td>NaN</td>\n",
       "      <td>NaN</td>\n",
       "      <td>0.05496</td>\n",
       "    </tr>\n",
       "    <tr>\n",
       "      <th>2</th>\n",
       "      <td>PF00001005</td>\n",
       "      <td>DSK00001004</td>\n",
       "      <td>OFF00001001</td>\n",
       "      <td>A</td>\n",
       "      <td>20040723</td>\n",
       "      <td>56474000.0</td>\n",
       "      <td>T</td>\n",
       "      <td>0.02074</td>\n",
       "      <td>USD</td>\n",
       "      <td>2.332216</td>\n",
       "      <td>5.637953e+07</td>\n",
       "      <td>20040723</td>\n",
       "      <td>NaN</td>\n",
       "      <td>20040817</td>\n",
       "      <td>A</td>\n",
       "      <td>NaN</td>\n",
       "      <td>NaN</td>\n",
       "      <td>0.02496</td>\n",
       "    </tr>\n",
       "    <tr>\n",
       "      <th>3</th>\n",
       "      <td>PF00001006</td>\n",
       "      <td>DSK00001005</td>\n",
       "      <td>OFF00001001</td>\n",
       "      <td>A</td>\n",
       "      <td>20040609</td>\n",
       "      <td>164813000.0</td>\n",
       "      <td>T</td>\n",
       "      <td>0.02074</td>\n",
       "      <td>USD</td>\n",
       "      <td>2.332216</td>\n",
       "      <td>1.645088e+08</td>\n",
       "      <td>20040723</td>\n",
       "      <td>NaN</td>\n",
       "      <td>20040713</td>\n",
       "      <td>A</td>\n",
       "      <td>NaN</td>\n",
       "      <td>NaN</td>\n",
       "      <td>0.02496</td>\n",
       "    </tr>\n",
       "    <tr>\n",
       "      <th>4</th>\n",
       "      <td>PF00001007</td>\n",
       "      <td>DSK00001005</td>\n",
       "      <td>OFF00001002</td>\n",
       "      <td>B</td>\n",
       "      <td>20040609</td>\n",
       "      <td>140800000.0</td>\n",
       "      <td>T</td>\n",
       "      <td>0.02074</td>\n",
       "      <td>USD</td>\n",
       "      <td>2.332216</td>\n",
       "      <td>1.405402e+08</td>\n",
       "      <td>20040723</td>\n",
       "      <td>NaN</td>\n",
       "      <td>20040713</td>\n",
       "      <td>B</td>\n",
       "      <td>NaN</td>\n",
       "      <td>NaN</td>\n",
       "      <td>0.02496</td>\n",
       "    </tr>\n",
       "  </tbody>\n",
       "</table>\n",
       "</div>"
      ],
      "text/plain": [
       "  portfolio_id      desk_id    office_id pf_category  start_date         sold  \\\n",
       "0   PF00001002  DSK00001001  OFF00001002           B    20040720  110000000.0   \n",
       "1   PF00001003  DSK00001002  OFF00001001           A    20040709  176671000.0   \n",
       "2   PF00001005  DSK00001004  OFF00001001           A    20040723   56474000.0   \n",
       "3   PF00001006  DSK00001005  OFF00001001           A    20040609  164813000.0   \n",
       "4   PF00001007  DSK00001005  OFF00001002           B    20040609  140800000.0   \n",
       "\n",
       "  country_code  euribor_rate currency  libor_rate        bought  \\\n",
       "0            T       0.02074      USD    2.332216  1.098097e+08   \n",
       "1            N       0.02074      GBP    5.269617  1.760084e+08   \n",
       "2            T       0.02074      USD    2.332216  5.637953e+07   \n",
       "3            T       0.02074      USD    2.332216  1.645088e+08   \n",
       "4            T       0.02074      USD    2.332216  1.405402e+08   \n",
       "\n",
       "   creation_date indicator_code  sell_date type hedge_value status   return  \n",
       "0       20040720            NaN   20040812    B         NaN    NaN  0.02496  \n",
       "1       20040723            NaN   20040812    C         NaN    NaN  0.05496  \n",
       "2       20040723            NaN   20040817    A         NaN    NaN  0.02496  \n",
       "3       20040723            NaN   20040713    A         NaN    NaN  0.02496  \n",
       "4       20040723            NaN   20040713    B         NaN    NaN  0.02496  "
      ]
     },
     "execution_count": 1826,
     "metadata": {},
     "output_type": "execute_result"
    }
   ],
   "source": [
    "train.head()"
   ]
  },
  {
   "cell_type": "code",
   "execution_count": 1827,
   "metadata": {},
   "outputs": [
    {
     "data": {
      "text/html": [
       "<div>\n",
       "<style>\n",
       "    .dataframe thead tr:only-child th {\n",
       "        text-align: right;\n",
       "    }\n",
       "\n",
       "    .dataframe thead th {\n",
       "        text-align: left;\n",
       "    }\n",
       "\n",
       "    .dataframe tbody tr th {\n",
       "        vertical-align: top;\n",
       "    }\n",
       "</style>\n",
       "<table border=\"1\" class=\"dataframe\">\n",
       "  <thead>\n",
       "    <tr style=\"text-align: right;\">\n",
       "      <th></th>\n",
       "      <th>start_date</th>\n",
       "      <th>sold</th>\n",
       "      <th>euribor_rate</th>\n",
       "      <th>libor_rate</th>\n",
       "      <th>bought</th>\n",
       "      <th>creation_date</th>\n",
       "      <th>sell_date</th>\n",
       "      <th>return</th>\n",
       "    </tr>\n",
       "  </thead>\n",
       "  <tbody>\n",
       "    <tr>\n",
       "      <th>count</th>\n",
       "      <td>9.366000e+03</td>\n",
       "      <td>9.364000e+03</td>\n",
       "      <td>9366.000000</td>\n",
       "      <td>8892.000000</td>\n",
       "      <td>9.364000e+03</td>\n",
       "      <td>9.366000e+03</td>\n",
       "      <td>9.366000e+03</td>\n",
       "      <td>9366.000000</td>\n",
       "    </tr>\n",
       "    <tr>\n",
       "      <th>mean</th>\n",
       "      <td>2.011706e+07</td>\n",
       "      <td>1.019740e+08</td>\n",
       "      <td>0.009383</td>\n",
       "      <td>0.998066</td>\n",
       "      <td>1.018914e+08</td>\n",
       "      <td>2.011706e+07</td>\n",
       "      <td>2.011770e+07</td>\n",
       "      <td>0.014100</td>\n",
       "    </tr>\n",
       "    <tr>\n",
       "      <th>std</th>\n",
       "      <td>3.052996e+04</td>\n",
       "      <td>1.928066e+08</td>\n",
       "      <td>0.013298</td>\n",
       "      <td>1.457977</td>\n",
       "      <td>1.927472e+08</td>\n",
       "      <td>3.052372e+04</td>\n",
       "      <td>3.060900e+04</td>\n",
       "      <td>0.020549</td>\n",
       "    </tr>\n",
       "    <tr>\n",
       "      <th>min</th>\n",
       "      <td>2.004041e+07</td>\n",
       "      <td>1.100000e+00</td>\n",
       "      <td>-0.003740</td>\n",
       "      <td>-0.667095</td>\n",
       "      <td>1.099698e+00</td>\n",
       "      <td>2.004072e+07</td>\n",
       "      <td>2.004071e+07</td>\n",
       "      <td>-0.009600</td>\n",
       "    </tr>\n",
       "    <tr>\n",
       "      <th>25%</th>\n",
       "      <td>2.010020e+07</td>\n",
       "      <td>2.763200e+07</td>\n",
       "      <td>0.000980</td>\n",
       "      <td>0.244490</td>\n",
       "      <td>2.761285e+07</td>\n",
       "      <td>2.010020e+07</td>\n",
       "      <td>2.010023e+07</td>\n",
       "      <td>0.003000</td>\n",
       "    </tr>\n",
       "    <tr>\n",
       "      <th>50%</th>\n",
       "      <td>2.011120e+07</td>\n",
       "      <td>5.517050e+07</td>\n",
       "      <td>0.004390</td>\n",
       "      <td>0.531983</td>\n",
       "      <td>5.512056e+07</td>\n",
       "      <td>2.011120e+07</td>\n",
       "      <td>2.011121e+07</td>\n",
       "      <td>0.005400</td>\n",
       "    </tr>\n",
       "    <tr>\n",
       "      <th>75%</th>\n",
       "      <td>2.014071e+07</td>\n",
       "      <td>1.144632e+08</td>\n",
       "      <td>0.013510</td>\n",
       "      <td>1.109959</td>\n",
       "      <td>1.144459e+08</td>\n",
       "      <td>2.014071e+07</td>\n",
       "      <td>2.014083e+07</td>\n",
       "      <td>0.014520</td>\n",
       "    </tr>\n",
       "    <tr>\n",
       "      <th>max</th>\n",
       "      <td>2.017103e+07</td>\n",
       "      <td>1.320000e+10</td>\n",
       "      <td>0.050880</td>\n",
       "      <td>6.379137</td>\n",
       "      <td>1.320000e+10</td>\n",
       "      <td>2.017103e+07</td>\n",
       "      <td>2.017103e+07</td>\n",
       "      <td>0.778441</td>\n",
       "    </tr>\n",
       "  </tbody>\n",
       "</table>\n",
       "</div>"
      ],
      "text/plain": [
       "         start_date          sold  euribor_rate   libor_rate        bought  \\\n",
       "count  9.366000e+03  9.364000e+03   9366.000000  8892.000000  9.364000e+03   \n",
       "mean   2.011706e+07  1.019740e+08      0.009383     0.998066  1.018914e+08   \n",
       "std    3.052996e+04  1.928066e+08      0.013298     1.457977  1.927472e+08   \n",
       "min    2.004041e+07  1.100000e+00     -0.003740    -0.667095  1.099698e+00   \n",
       "25%    2.010020e+07  2.763200e+07      0.000980     0.244490  2.761285e+07   \n",
       "50%    2.011120e+07  5.517050e+07      0.004390     0.531983  5.512056e+07   \n",
       "75%    2.014071e+07  1.144632e+08      0.013510     1.109959  1.144459e+08   \n",
       "max    2.017103e+07  1.320000e+10      0.050880     6.379137  1.320000e+10   \n",
       "\n",
       "       creation_date     sell_date       return  \n",
       "count   9.366000e+03  9.366000e+03  9366.000000  \n",
       "mean    2.011706e+07  2.011770e+07     0.014100  \n",
       "std     3.052372e+04  3.060900e+04     0.020549  \n",
       "min     2.004072e+07  2.004071e+07    -0.009600  \n",
       "25%     2.010020e+07  2.010023e+07     0.003000  \n",
       "50%     2.011120e+07  2.011121e+07     0.005400  \n",
       "75%     2.014071e+07  2.014083e+07     0.014520  \n",
       "max     2.017103e+07  2.017103e+07     0.778441  "
      ]
     },
     "execution_count": 1827,
     "metadata": {},
     "output_type": "execute_result"
    }
   ],
   "source": [
    "train.describe()"
   ]
  },
  {
   "cell_type": "code",
   "execution_count": 1828,
   "metadata": {},
   "outputs": [
    {
     "data": {
      "text/plain": [
       "portfolio_id         0\n",
       "desk_id           3665\n",
       "office_id            0\n",
       "pf_category          0\n",
       "start_date           0\n",
       "sold                 2\n",
       "country_code         0\n",
       "euribor_rate         0\n",
       "currency             0\n",
       "libor_rate         474\n",
       "bought               2\n",
       "creation_date        0\n",
       "indicator_code    5699\n",
       "sell_date            0\n",
       "type                 0\n",
       "hedge_value       5701\n",
       "status            3084\n",
       "return               0\n",
       "dtype: int64"
      ]
     },
     "execution_count": 1828,
     "metadata": {},
     "output_type": "execute_result"
    }
   ],
   "source": [
    "train.isnull().sum()"
   ]
  },
  {
   "cell_type": "code",
   "execution_count": 1829,
   "metadata": {},
   "outputs": [
    {
     "data": {
      "text/plain": [
       "portfolio_id         0\n",
       "desk_id           1948\n",
       "office_id            0\n",
       "pf_category          0\n",
       "start_date           0\n",
       "sold                 0\n",
       "country_code         0\n",
       "euribor_rate         0\n",
       "currency             0\n",
       "libor_rate         265\n",
       "bought               0\n",
       "creation_date        0\n",
       "indicator_code    2851\n",
       "sell_date            0\n",
       "type                 0\n",
       "hedge_value       2851\n",
       "status            1457\n",
       "dtype: int64"
      ]
     },
     "execution_count": 1829,
     "metadata": {},
     "output_type": "execute_result"
    }
   ],
   "source": [
    "test.isnull().sum()"
   ]
  },
  {
   "cell_type": "code",
   "execution_count": 1830,
   "metadata": {},
   "outputs": [],
   "source": [
    "#convert dates to strings\n",
    "\n",
    "train.start_date = train.start_date.astype(str)\n",
    "test.start_date = test.start_date.astype(str)\n",
    "\n",
    "train.creation_date = train.creation_date.astype(str)\n",
    "test.creation_date = test.creation_date.astype(str)\n",
    "\n",
    "train.sell_date = train.sell_date.astype(str)\n",
    "test.sell_date = test.sell_date.astype(str)"
   ]
  },
  {
   "cell_type": "code",
   "execution_count": 1831,
   "metadata": {},
   "outputs": [],
   "source": [
    "#convert dates to standard datetime format\n",
    "\n",
    "def info_from_date(x):\n",
    "    x = x[:4] + '-' + x[4:6] + '-' + x[6:]\n",
    "    return x\n",
    "\n",
    "train.start_date = pd.to_datetime(train.start_date.map(lambda x:info_from_date(x)))\n",
    "test.start_date = pd.to_datetime(test.start_date.map(lambda x:info_from_date(x)))\n",
    "\n",
    "train.creation_date = pd.to_datetime(train.creation_date.map(lambda x:info_from_date(x)))\n",
    "test.creation_date = pd.to_datetime(test.creation_date.map(lambda x:info_from_date(x)))\n",
    "\n",
    "\n",
    "train.sell_date = pd.to_datetime(train.sell_date.map(lambda x:info_from_date(x)))\n",
    "test.sell_date = pd.to_datetime(test.sell_date.map(lambda x:info_from_date(x)))"
   ]
  },
  {
   "cell_type": "code",
   "execution_count": 1832,
   "metadata": {},
   "outputs": [
    {
     "data": {
      "text/plain": [
       "portfolio_id              object\n",
       "desk_id                   object\n",
       "office_id                 object\n",
       "pf_category               object\n",
       "start_date        datetime64[ns]\n",
       "sold                     float64\n",
       "country_code              object\n",
       "euribor_rate             float64\n",
       "currency                  object\n",
       "libor_rate               float64\n",
       "bought                   float64\n",
       "creation_date     datetime64[ns]\n",
       "indicator_code            object\n",
       "sell_date         datetime64[ns]\n",
       "type                      object\n",
       "hedge_value               object\n",
       "status                    object\n",
       "return                   float64\n",
       "dtype: object"
      ]
     },
     "execution_count": 1832,
     "metadata": {},
     "output_type": "execute_result"
    }
   ],
   "source": [
    "train.dtypes"
   ]
  },
  {
   "cell_type": "code",
   "execution_count": 1833,
   "metadata": {},
   "outputs": [],
   "source": [
    "training_set = train.drop(labels = ['portfolio_id', 'desk_id', 'indicator_code', 'hedge_value', 'status'], axis = 1)\n",
    "test_set = test.drop(labels = ['portfolio_id', 'desk_id', 'indicator_code', 'hedge_value', 'status'], axis = 1)"
   ]
  },
  {
   "cell_type": "code",
   "execution_count": 1834,
   "metadata": {},
   "outputs": [
    {
     "data": {
      "text/html": [
       "<div>\n",
       "<style>\n",
       "    .dataframe thead tr:only-child th {\n",
       "        text-align: right;\n",
       "    }\n",
       "\n",
       "    .dataframe thead th {\n",
       "        text-align: left;\n",
       "    }\n",
       "\n",
       "    .dataframe tbody tr th {\n",
       "        vertical-align: top;\n",
       "    }\n",
       "</style>\n",
       "<table border=\"1\" class=\"dataframe\">\n",
       "  <thead>\n",
       "    <tr style=\"text-align: right;\">\n",
       "      <th></th>\n",
       "      <th>office_id</th>\n",
       "      <th>pf_category</th>\n",
       "      <th>start_date</th>\n",
       "      <th>sold</th>\n",
       "      <th>country_code</th>\n",
       "      <th>euribor_rate</th>\n",
       "      <th>currency</th>\n",
       "      <th>libor_rate</th>\n",
       "      <th>bought</th>\n",
       "      <th>creation_date</th>\n",
       "      <th>sell_date</th>\n",
       "      <th>type</th>\n",
       "      <th>return</th>\n",
       "    </tr>\n",
       "  </thead>\n",
       "  <tbody>\n",
       "    <tr>\n",
       "      <th>0</th>\n",
       "      <td>OFF00001002</td>\n",
       "      <td>B</td>\n",
       "      <td>2004-07-20</td>\n",
       "      <td>110000000.0</td>\n",
       "      <td>T</td>\n",
       "      <td>0.02074</td>\n",
       "      <td>USD</td>\n",
       "      <td>2.332216</td>\n",
       "      <td>1.098097e+08</td>\n",
       "      <td>2004-07-20</td>\n",
       "      <td>2004-08-12</td>\n",
       "      <td>B</td>\n",
       "      <td>0.02496</td>\n",
       "    </tr>\n",
       "    <tr>\n",
       "      <th>1</th>\n",
       "      <td>OFF00001001</td>\n",
       "      <td>A</td>\n",
       "      <td>2004-07-09</td>\n",
       "      <td>176671000.0</td>\n",
       "      <td>N</td>\n",
       "      <td>0.02074</td>\n",
       "      <td>GBP</td>\n",
       "      <td>5.269617</td>\n",
       "      <td>1.760084e+08</td>\n",
       "      <td>2004-07-23</td>\n",
       "      <td>2004-08-12</td>\n",
       "      <td>C</td>\n",
       "      <td>0.05496</td>\n",
       "    </tr>\n",
       "    <tr>\n",
       "      <th>2</th>\n",
       "      <td>OFF00001001</td>\n",
       "      <td>A</td>\n",
       "      <td>2004-07-23</td>\n",
       "      <td>56474000.0</td>\n",
       "      <td>T</td>\n",
       "      <td>0.02074</td>\n",
       "      <td>USD</td>\n",
       "      <td>2.332216</td>\n",
       "      <td>5.637953e+07</td>\n",
       "      <td>2004-07-23</td>\n",
       "      <td>2004-08-17</td>\n",
       "      <td>A</td>\n",
       "      <td>0.02496</td>\n",
       "    </tr>\n",
       "    <tr>\n",
       "      <th>3</th>\n",
       "      <td>OFF00001001</td>\n",
       "      <td>A</td>\n",
       "      <td>2004-06-09</td>\n",
       "      <td>164813000.0</td>\n",
       "      <td>T</td>\n",
       "      <td>0.02074</td>\n",
       "      <td>USD</td>\n",
       "      <td>2.332216</td>\n",
       "      <td>1.645088e+08</td>\n",
       "      <td>2004-07-23</td>\n",
       "      <td>2004-07-13</td>\n",
       "      <td>A</td>\n",
       "      <td>0.02496</td>\n",
       "    </tr>\n",
       "    <tr>\n",
       "      <th>4</th>\n",
       "      <td>OFF00001002</td>\n",
       "      <td>B</td>\n",
       "      <td>2004-06-09</td>\n",
       "      <td>140800000.0</td>\n",
       "      <td>T</td>\n",
       "      <td>0.02074</td>\n",
       "      <td>USD</td>\n",
       "      <td>2.332216</td>\n",
       "      <td>1.405402e+08</td>\n",
       "      <td>2004-07-23</td>\n",
       "      <td>2004-07-13</td>\n",
       "      <td>B</td>\n",
       "      <td>0.02496</td>\n",
       "    </tr>\n",
       "  </tbody>\n",
       "</table>\n",
       "</div>"
      ],
      "text/plain": [
       "     office_id pf_category start_date         sold country_code  euribor_rate  \\\n",
       "0  OFF00001002           B 2004-07-20  110000000.0            T       0.02074   \n",
       "1  OFF00001001           A 2004-07-09  176671000.0            N       0.02074   \n",
       "2  OFF00001001           A 2004-07-23   56474000.0            T       0.02074   \n",
       "3  OFF00001001           A 2004-06-09  164813000.0            T       0.02074   \n",
       "4  OFF00001002           B 2004-06-09  140800000.0            T       0.02074   \n",
       "\n",
       "  currency  libor_rate        bought creation_date  sell_date type   return  \n",
       "0      USD    2.332216  1.098097e+08    2004-07-20 2004-08-12    B  0.02496  \n",
       "1      GBP    5.269617  1.760084e+08    2004-07-23 2004-08-12    C  0.05496  \n",
       "2      USD    2.332216  5.637953e+07    2004-07-23 2004-08-17    A  0.02496  \n",
       "3      USD    2.332216  1.645088e+08    2004-07-23 2004-07-13    A  0.02496  \n",
       "4      USD    2.332216  1.405402e+08    2004-07-23 2004-07-13    B  0.02496  "
      ]
     },
     "execution_count": 1834,
     "metadata": {},
     "output_type": "execute_result"
    }
   ],
   "source": [
    "training_set.head()"
   ]
  },
  {
   "cell_type": "code",
   "execution_count": 1835,
   "metadata": {},
   "outputs": [
    {
     "data": {
      "text/plain": [
       "OFF00001002    6458\n",
       "OFF00001001    2908\n",
       "Name: office_id, dtype: int64"
      ]
     },
     "execution_count": 1835,
     "metadata": {},
     "output_type": "execute_result"
    }
   ],
   "source": [
    "training_set.office_id.value_counts()"
   ]
  },
  {
   "cell_type": "code",
   "execution_count": 1836,
   "metadata": {},
   "outputs": [
    {
     "data": {
      "text/plain": [
       "OFF00001002    3300\n",
       "OFF00001001    1501\n",
       "Name: office_id, dtype: int64"
      ]
     },
     "execution_count": 1836,
     "metadata": {},
     "output_type": "execute_result"
    }
   ],
   "source": [
    "test_set.office_id.value_counts()"
   ]
  },
  {
   "cell_type": "code",
   "execution_count": 1837,
   "metadata": {},
   "outputs": [],
   "source": [
    "from sklearn.preprocessing import LabelEncoder"
   ]
  },
  {
   "cell_type": "code",
   "execution_count": 1838,
   "metadata": {},
   "outputs": [],
   "source": [
    "lbl_office = LabelEncoder()\n",
    "lbl_pf = LabelEncoder()\n",
    "lbl_country = LabelEncoder()\n",
    "lbl_currency = LabelEncoder()\n",
    "lbl_type = LabelEncoder()"
   ]
  },
  {
   "cell_type": "code",
   "execution_count": 1839,
   "metadata": {},
   "outputs": [],
   "source": [
    "training_set.office_id = lbl_office.fit_transform(training_set.office_id)\n",
    "test_set.office_id = lbl_office.transform(test_set.office_id)\n",
    "\n",
    "training_set.pf_category = lbl_pf.fit_transform(training_set.pf_category)\n",
    "test_set.pf_category = lbl_pf.transform(test_set.pf_category)\n",
    "\n",
    "training_set.country_code = lbl_country.fit_transform(training_set.country_code)\n",
    "test_set.country_code = lbl_country.transform(test_set.country_code)\n",
    "\n",
    "training_set.currency = lbl_currency.fit_transform(training_set.currency)\n",
    "test_set.currency = lbl_currency.transform(test_set.currency)\n",
    "\n",
    "training_set.type = lbl_type.fit_transform(training_set.type)\n",
    "test_set.type = lbl_type.transform(test_set.type)"
   ]
  },
  {
   "cell_type": "code",
   "execution_count": 1840,
   "metadata": {},
   "outputs": [
    {
     "data": {
      "text/html": [
       "<div>\n",
       "<style>\n",
       "    .dataframe thead tr:only-child th {\n",
       "        text-align: right;\n",
       "    }\n",
       "\n",
       "    .dataframe thead th {\n",
       "        text-align: left;\n",
       "    }\n",
       "\n",
       "    .dataframe tbody tr th {\n",
       "        vertical-align: top;\n",
       "    }\n",
       "</style>\n",
       "<table border=\"1\" class=\"dataframe\">\n",
       "  <thead>\n",
       "    <tr style=\"text-align: right;\">\n",
       "      <th></th>\n",
       "      <th>office_id</th>\n",
       "      <th>pf_category</th>\n",
       "      <th>start_date</th>\n",
       "      <th>sold</th>\n",
       "      <th>country_code</th>\n",
       "      <th>euribor_rate</th>\n",
       "      <th>currency</th>\n",
       "      <th>libor_rate</th>\n",
       "      <th>bought</th>\n",
       "      <th>creation_date</th>\n",
       "      <th>sell_date</th>\n",
       "      <th>type</th>\n",
       "      <th>return</th>\n",
       "    </tr>\n",
       "  </thead>\n",
       "  <tbody>\n",
       "    <tr>\n",
       "      <th>0</th>\n",
       "      <td>1</td>\n",
       "      <td>1</td>\n",
       "      <td>2004-07-20</td>\n",
       "      <td>110000000.0</td>\n",
       "      <td>2</td>\n",
       "      <td>0.02074</td>\n",
       "      <td>4</td>\n",
       "      <td>2.332216</td>\n",
       "      <td>1.098097e+08</td>\n",
       "      <td>2004-07-20</td>\n",
       "      <td>2004-08-12</td>\n",
       "      <td>1</td>\n",
       "      <td>0.02496</td>\n",
       "    </tr>\n",
       "    <tr>\n",
       "      <th>1</th>\n",
       "      <td>0</td>\n",
       "      <td>0</td>\n",
       "      <td>2004-07-09</td>\n",
       "      <td>176671000.0</td>\n",
       "      <td>1</td>\n",
       "      <td>0.02074</td>\n",
       "      <td>2</td>\n",
       "      <td>5.269617</td>\n",
       "      <td>1.760084e+08</td>\n",
       "      <td>2004-07-23</td>\n",
       "      <td>2004-08-12</td>\n",
       "      <td>2</td>\n",
       "      <td>0.05496</td>\n",
       "    </tr>\n",
       "    <tr>\n",
       "      <th>2</th>\n",
       "      <td>0</td>\n",
       "      <td>0</td>\n",
       "      <td>2004-07-23</td>\n",
       "      <td>56474000.0</td>\n",
       "      <td>2</td>\n",
       "      <td>0.02074</td>\n",
       "      <td>4</td>\n",
       "      <td>2.332216</td>\n",
       "      <td>5.637953e+07</td>\n",
       "      <td>2004-07-23</td>\n",
       "      <td>2004-08-17</td>\n",
       "      <td>0</td>\n",
       "      <td>0.02496</td>\n",
       "    </tr>\n",
       "    <tr>\n",
       "      <th>3</th>\n",
       "      <td>0</td>\n",
       "      <td>0</td>\n",
       "      <td>2004-06-09</td>\n",
       "      <td>164813000.0</td>\n",
       "      <td>2</td>\n",
       "      <td>0.02074</td>\n",
       "      <td>4</td>\n",
       "      <td>2.332216</td>\n",
       "      <td>1.645088e+08</td>\n",
       "      <td>2004-07-23</td>\n",
       "      <td>2004-07-13</td>\n",
       "      <td>0</td>\n",
       "      <td>0.02496</td>\n",
       "    </tr>\n",
       "    <tr>\n",
       "      <th>4</th>\n",
       "      <td>1</td>\n",
       "      <td>1</td>\n",
       "      <td>2004-06-09</td>\n",
       "      <td>140800000.0</td>\n",
       "      <td>2</td>\n",
       "      <td>0.02074</td>\n",
       "      <td>4</td>\n",
       "      <td>2.332216</td>\n",
       "      <td>1.405402e+08</td>\n",
       "      <td>2004-07-23</td>\n",
       "      <td>2004-07-13</td>\n",
       "      <td>1</td>\n",
       "      <td>0.02496</td>\n",
       "    </tr>\n",
       "  </tbody>\n",
       "</table>\n",
       "</div>"
      ],
      "text/plain": [
       "   office_id  pf_category start_date         sold  country_code  euribor_rate  \\\n",
       "0          1            1 2004-07-20  110000000.0             2       0.02074   \n",
       "1          0            0 2004-07-09  176671000.0             1       0.02074   \n",
       "2          0            0 2004-07-23   56474000.0             2       0.02074   \n",
       "3          0            0 2004-06-09  164813000.0             2       0.02074   \n",
       "4          1            1 2004-06-09  140800000.0             2       0.02074   \n",
       "\n",
       "   currency  libor_rate        bought creation_date  sell_date  type   return  \n",
       "0         4    2.332216  1.098097e+08    2004-07-20 2004-08-12     1  0.02496  \n",
       "1         2    5.269617  1.760084e+08    2004-07-23 2004-08-12     2  0.05496  \n",
       "2         4    2.332216  5.637953e+07    2004-07-23 2004-08-17     0  0.02496  \n",
       "3         4    2.332216  1.645088e+08    2004-07-23 2004-07-13     0  0.02496  \n",
       "4         4    2.332216  1.405402e+08    2004-07-23 2004-07-13     1  0.02496  "
      ]
     },
     "execution_count": 1840,
     "metadata": {},
     "output_type": "execute_result"
    }
   ],
   "source": [
    "training_set.head()"
   ]
  },
  {
   "cell_type": "code",
   "execution_count": 1841,
   "metadata": {},
   "outputs": [],
   "source": [
    "training_set['start_year'] = training_set.start_date.dt.year\n",
    "training_set['start_month'] = training_set.start_date.dt.month\n",
    "training_set['start_week'] = training_set.start_date.dt.week\n",
    "training_set['start_day'] = training_set.start_date.dt.day\n",
    "\n",
    "test_set['start_year'] = test_set.start_date.dt.year\n",
    "test_set['start_month'] = test_set.start_date.dt.month\n",
    "test_set['start_week'] = test_set.start_date.dt.week\n",
    "test_set['start_day'] = test_set.start_date.dt.day"
   ]
  },
  {
   "cell_type": "code",
   "execution_count": 1842,
   "metadata": {},
   "outputs": [],
   "source": [
    "training_set['creation_year'] = training_set.creation_date.dt.year\n",
    "training_set['creation_month'] = training_set.creation_date.dt.month\n",
    "training_set['creation_week'] = training_set.creation_date.dt.week\n",
    "training_set['creation_day'] = training_set.creation_date.dt.day\n",
    "\n",
    "test_set['creation_year'] = test_set.creation_date.dt.year\n",
    "test_set['creation_month'] = test_set.creation_date.dt.month\n",
    "test_set['creation_week'] = test_set.creation_date.dt.week\n",
    "test_set['creation_day'] = test_set.creation_date.dt.day"
   ]
  },
  {
   "cell_type": "code",
   "execution_count": 1843,
   "metadata": {},
   "outputs": [],
   "source": [
    "training_set['sell_year'] = training_set.sell_date.dt.year\n",
    "training_set['sell_month'] = training_set.sell_date.dt.month\n",
    "training_set['sell_week'] = training_set.sell_date.dt.week\n",
    "training_set['sell_day'] = training_set.sell_date.dt.day\n",
    "\n",
    "test_set['sell_year'] = test_set.sell_date.dt.year\n",
    "test_set['sell_month'] = test_set.sell_date.dt.month\n",
    "test_set['sell_week'] = test_set.sell_date.dt.week\n",
    "test_set['sell_day'] = test_set.sell_date.dt.day"
   ]
  },
  {
   "cell_type": "code",
   "execution_count": 1844,
   "metadata": {},
   "outputs": [],
   "source": [
    "#Country code and currency are the same variables\n",
    "\n",
    "training_set = training_set.drop(labels = ['start_date', 'creation_date', 'sell_date', 'return', 'currency'], axis = 1)\n",
    "test_set = test_set.drop(labels = ['start_date', 'creation_date', 'sell_date', 'currency'], axis = 1)\n",
    "target = train['return']"
   ]
  },
  {
   "cell_type": "code",
   "execution_count": 1845,
   "metadata": {},
   "outputs": [],
   "source": [
    "training_set.sold = training_set.sold.fillna(np.mean(training_set.sold))\n",
    "test_set.sold = test_set.sold.fillna(np.mean(test_set.sold))\n",
    "\n",
    "training_set.libor_rate = training_set.libor_rate.fillna(method = 'bfill', axis = 0)\n",
    "test_set.libor_rate = test_set.libor_rate.fillna(method = 'bfill', axis = 0)\n",
    "\n",
    "training_set.bought = training_set.bought.fillna(np.mean(training_set.bought))\n",
    "test_set.bought = test_set.bought.fillna(np.mean(test_set.bought))"
   ]
  },
  {
   "cell_type": "code",
   "execution_count": 1846,
   "metadata": {},
   "outputs": [],
   "source": [
    "from sklearn.model_selection import train_test_split"
   ]
  },
  {
   "cell_type": "code",
   "execution_count": 1847,
   "metadata": {},
   "outputs": [],
   "source": [
    "x_data, x_test, y_data, y_test = train_test_split(training_set, target, test_size = 0.1, random_state = 0)\n",
    "x_data = x_data.reset_index(drop = True)\n",
    "y_data = y_data.reset_index(drop = True)\n",
    "x_test = x_test.reset_index(drop = True)\n",
    "y_test = y_test.reset_index(drop = True)"
   ]
  },
  {
   "cell_type": "code",
   "execution_count": 1848,
   "metadata": {},
   "outputs": [],
   "source": [
    "x_train, x_val, y_train, y_val = train_test_split(x_data, y_data, test_size = 0.2, random_state = 0)\n",
    "x_train = x_train.reset_index(drop = True)\n",
    "x_val = x_val.reset_index(drop = True)\n",
    "y_train = y_train.reset_index(drop = True)\n",
    "y_val = y_val.reset_index(drop = True)"
   ]
  },
  {
   "cell_type": "code",
   "execution_count": 1849,
   "metadata": {},
   "outputs": [
    {
     "data": {
      "text/plain": [
       "office_id         0\n",
       "pf_category       0\n",
       "sold              0\n",
       "country_code      0\n",
       "euribor_rate      0\n",
       "libor_rate        0\n",
       "bought            0\n",
       "type              0\n",
       "start_year        0\n",
       "start_month       0\n",
       "start_week        0\n",
       "start_day         0\n",
       "creation_year     0\n",
       "creation_month    0\n",
       "creation_week     0\n",
       "creation_day      0\n",
       "sell_year         0\n",
       "sell_month        0\n",
       "sell_week         0\n",
       "sell_day          0\n",
       "dtype: int64"
      ]
     },
     "execution_count": 1849,
     "metadata": {},
     "output_type": "execute_result"
    }
   ],
   "source": [
    "x_train.isnull().sum()"
   ]
  },
  {
   "cell_type": "code",
   "execution_count": 1850,
   "metadata": {},
   "outputs": [
    {
     "data": {
      "image/png": "[encoded data removed]",
      "text/plain": [
       "<matplotlib.figure.Figure at 0x7f84ae22ef98>"
      ]
     },
     "metadata": {},
     "output_type": "display_data"
    }
   ],
   "source": [
    "#distribution of returns\n",
    "plt.figure(figsize = (12, 8))\n",
    "plt.title('Distribution of returns')\n",
    "sns.kdeplot(target)\n",
    "plt.show()"
   ]
  },
  {
   "cell_type": "code",
   "execution_count": 1851,
   "metadata": {},
   "outputs": [
    {
     "data": {
      "image/png": "[encoded data removed]",
      "text/plain": [
       "<matplotlib.figure.Figure at 0x7f84ae509080>"
      ]
     },
     "metadata": {},
     "output_type": "display_data"
    }
   ],
   "source": [
    "sns.barplot(x_train['office_id'], y_train, hue = x_train.pf_category)\n",
    "plt.title('Barplot of return vs office_id')\n",
    "plt.show()"
   ]
  },
  {
   "cell_type": "code",
   "execution_count": 1852,
   "metadata": {},
   "outputs": [
    {
     "data": {
      "image/png": "[encoded data removed]",
      "text/plain": [
       "<matplotlib.figure.Figure at 0x7f84b83d96a0>"
      ]
     },
     "metadata": {},
     "output_type": "display_data"
    }
   ],
   "source": [
    "sns.barplot(x_train['office_id'], y_train, hue = x_train.country_code)\n",
    "plt.title('Barplot of return vs office_id')\n",
    "plt.show()"
   ]
  },
  {
   "cell_type": "code",
   "execution_count": 1853,
   "metadata": {},
   "outputs": [
    {
     "data": {
      "image/png": "[encoded data removed]",
      "text/plain": [
       "<matplotlib.figure.Figure at 0x7f84b8263198>"
      ]
     },
     "metadata": {},
     "output_type": "display_data"
    }
   ],
   "source": [
    "sns.barplot(x_train['office_id'], y_train, hue = x_train.type)\n",
    "plt.title('Barplot of return vs office_id')\n",
    "plt.show()"
   ]
  },
  {
   "cell_type": "code",
   "execution_count": 1854,
   "metadata": {},
   "outputs": [
    {
     "data": {
      "image/png": "[encoded data removed]",
      "text/plain": [
       "<matplotlib.figure.Figure at 0x7f84b83a1e48>"
      ]
     },
     "metadata": {},
     "output_type": "display_data"
    }
   ],
   "source": [
    "sns.barplot(x_train['pf_category'], y_train, hue = x_train.country_code)\n",
    "plt.title('Barplot of return vs pf_category')\n",
    "plt.show()"
   ]
  },
  {
   "cell_type": "code",
   "execution_count": 1855,
   "metadata": {},
   "outputs": [
    {
     "data": {
      "image/png": "[encoded data removed]",
      "text/plain": [
       "<matplotlib.figure.Figure at 0x7f84a96c3588>"
      ]
     },
     "metadata": {},
     "output_type": "display_data"
    }
   ],
   "source": [
    "plt.figure(figsize = (14, 10))\n",
    "sns.barplot(x_train['pf_category'], y_train, hue = x_train.type)\n",
    "plt.title('Barplot of return vs pf_category')\n",
    "plt.show()"
   ]
  },
  {
   "cell_type": "code",
   "execution_count": 1856,
   "metadata": {},
   "outputs": [
    {
     "data": {
      "text/plain": [
       "office_id           int64\n",
       "pf_category         int64\n",
       "sold              float64\n",
       "country_code        int64\n",
       "euribor_rate      float64\n",
       "libor_rate        float64\n",
       "bought            float64\n",
       "type                int64\n",
       "start_year          int64\n",
       "start_month         int64\n",
       "start_week          int64\n",
       "start_day           int64\n",
       "creation_year       int64\n",
       "creation_month      int64\n",
       "creation_week       int64\n",
       "creation_day        int64\n",
       "sell_year           int64\n",
       "sell_month          int64\n",
       "sell_week           int64\n",
       "sell_day            int64\n",
       "dtype: object"
      ]
     },
     "execution_count": 1856,
     "metadata": {},
     "output_type": "execute_result"
    }
   ],
   "source": [
    "training_set.dtypes"
   ]
  },
  {
   "cell_type": "code",
   "execution_count": 1857,
   "metadata": {},
   "outputs": [
    {
     "data": {
      "image/png": "[encoded data removed]",
      "text/plain": [
       "<matplotlib.figure.Figure at 0x7f84a96c3550>"
      ]
     },
     "metadata": {},
     "output_type": "display_data"
    }
   ],
   "source": [
    "plt.figure(figsize = (12, 8))\n",
    "sns.barplot(x_train.start_year, y_train, hue = x_train.office_id)\n",
    "plt.title('Barplot of returns vs start year')\n",
    "plt.show()"
   ]
  },
  {
   "cell_type": "code",
   "execution_count": 1858,
   "metadata": {},
   "outputs": [
    {
     "data": {
      "image/png": "[encoded data removed]",
      "text/plain": [
       "<matplotlib.figure.Figure at 0x7f84b83dffd0>"
      ]
     },
     "metadata": {},
     "output_type": "display_data"
    }
   ],
   "source": [
    "plt.figure(figsize = (12, 8))\n",
    "sns.barplot(x_train.sell_month, y_train, hue = x_train.office_id)\n",
    "plt.title('Barplot of returns vs start year')\n",
    "plt.show()"
   ]
  },
  {
   "cell_type": "code",
   "execution_count": 1859,
   "metadata": {},
   "outputs": [
    {
     "data": {
      "image/png": "[encoded data removed]",
      "text/plain": [
       "<matplotlib.figure.Figure at 0x7f84acc0c080>"
      ]
     },
     "metadata": {},
     "output_type": "display_data"
    },
    {
     "data": {
      "image/png": "[encoded data removed]",
      "text/plain": [
       "<matplotlib.figure.Figure at 0x7f84b4889b70>"
      ]
     },
     "metadata": {},
     "output_type": "display_data"
    },
    {
     "data": {
      "image/png": "[encoded data removed]",
      "text/plain": [
       "<matplotlib.figure.Figure at 0x7f84b4a4b4e0>"
      ]
     },
     "metadata": {},
     "output_type": "display_data"
    }
   ],
   "source": [
    "plt.scatter(x_train.start_year, x_train.creation_year)\n",
    "plt.show()\n",
    "\n",
    "plt.scatter(x_train.creation_year, x_train.sell_year)\n",
    "plt.show()\n",
    "\n",
    "plt.scatter(x_train.start_year, x_train.sell_year)\n",
    "plt.show()"
   ]
  },
  {
   "cell_type": "code",
   "execution_count": 1860,
   "metadata": {},
   "outputs": [
    {
     "data": {
      "image/png": "[encoded data removed]",
      "text/plain": [
       "<matplotlib.figure.Figure at 0x7f84b4a5ff60>"
      ]
     },
     "metadata": {},
     "output_type": "display_data"
    },
    {
     "data": {
      "image/png": "[encoded data removed]",
      "text/plain": [
       "<matplotlib.figure.Figure at 0x7f84b4dc4630>"
      ]
     },
     "metadata": {},
     "output_type": "display_data"
    },
    {
     "data": {
      "image/png": "[encoded data removed]",
      "text/plain": [
       "<matplotlib.figure.Figure at 0x7f84b3d3d4a8>"
      ]
     },
     "metadata": {},
     "output_type": "display_data"
    }
   ],
   "source": [
    "plt.scatter(x_train.start_month, x_train.creation_month)\n",
    "plt.show()\n",
    "\n",
    "plt.scatter(x_train.creation_month, x_train.sell_month)\n",
    "plt.show()\n",
    "\n",
    "plt.scatter(x_train.start_month, x_train.sell_month)\n",
    "plt.show()"
   ]
  },
  {
   "cell_type": "code",
   "execution_count": 1861,
   "metadata": {},
   "outputs": [
    {
     "data": {
      "image/png": "[encoded data removed]",
      "text/plain": [
       "<matplotlib.figure.Figure at 0x7f84b8572c18>"
      ]
     },
     "metadata": {},
     "output_type": "display_data"
    },
    {
     "data": {
      "image/png": "[encoded data removed]",
      "text/plain": [
       "<matplotlib.figure.Figure at 0x7f84b83bb898>"
      ]
     },
     "metadata": {},
     "output_type": "display_data"
    },
    {
     "data": {
      "image/png": "[encoded data removed]",
      "text/plain": [
       "<matplotlib.figure.Figure at 0x7f84b46e5f28>"
      ]
     },
     "metadata": {},
     "output_type": "display_data"
    }
   ],
   "source": [
    "plt.scatter(x_train.start_week, x_train.creation_week)\n",
    "plt.show()\n",
    "\n",
    "plt.scatter(x_train.creation_week, x_train.sell_week)\n",
    "plt.show()\n",
    "\n",
    "plt.scatter(x_train.start_week, x_train.sell_week)\n",
    "plt.show()"
   ]
  },
  {
   "cell_type": "code",
   "execution_count": 1862,
   "metadata": {},
   "outputs": [
    {
     "data": {
      "image/png": "[encoded data removed]",
      "text/plain": [
       "<matplotlib.figure.Figure at 0x7f84b22a1fd0>"
      ]
     },
     "metadata": {},
     "output_type": "display_data"
    },
    {
     "data": {
      "image/png": "[encoded data removed]",
      "text/plain": [
       "<matplotlib.figure.Figure at 0x7f84b4e80da0>"
      ]
     },
     "metadata": {},
     "output_type": "display_data"
    },
    {
     "data": {
      "image/png": "[encoded data removed]",
      "text/plain": [
       "<matplotlib.figure.Figure at 0x7f84b4d50c88>"
      ]
     },
     "metadata": {},
     "output_type": "display_data"
    }
   ],
   "source": [
    "plt.scatter(x_train.start_day, x_train.creation_day)\n",
    "plt.show()\n",
    "\n",
    "plt.scatter(x_train.creation_day, x_train.sell_day)\n",
    "plt.show()\n",
    "\n",
    "plt.scatter(x_train.start_day, x_train.sell_day)\n",
    "plt.show()"
   ]
  },
  {
   "cell_type": "code",
   "execution_count": 1863,
   "metadata": {},
   "outputs": [],
   "source": [
    "from sklearn.linear_model import LinearRegression"
   ]
  },
  {
   "cell_type": "code",
   "execution_count": 1864,
   "metadata": {},
   "outputs": [
    {
     "data": {
      "text/html": [
       "<div>\n",
       "<style>\n",
       "    .dataframe thead tr:only-child th {\n",
       "        text-align: right;\n",
       "    }\n",
       "\n",
       "    .dataframe thead th {\n",
       "        text-align: left;\n",
       "    }\n",
       "\n",
       "    .dataframe tbody tr th {\n",
       "        vertical-align: top;\n",
       "    }\n",
       "</style>\n",
       "<table border=\"1\" class=\"dataframe\">\n",
       "  <thead>\n",
       "    <tr style=\"text-align: right;\">\n",
       "      <th></th>\n",
       "      <th>office_id</th>\n",
       "      <th>pf_category</th>\n",
       "      <th>sold</th>\n",
       "      <th>country_code</th>\n",
       "      <th>euribor_rate</th>\n",
       "      <th>libor_rate</th>\n",
       "      <th>bought</th>\n",
       "      <th>type</th>\n",
       "      <th>start_year</th>\n",
       "      <th>start_month</th>\n",
       "      <th>start_week</th>\n",
       "      <th>start_day</th>\n",
       "      <th>creation_year</th>\n",
       "      <th>creation_month</th>\n",
       "      <th>creation_week</th>\n",
       "      <th>creation_day</th>\n",
       "      <th>sell_year</th>\n",
       "      <th>sell_month</th>\n",
       "      <th>sell_week</th>\n",
       "      <th>sell_day</th>\n",
       "    </tr>\n",
       "  </thead>\n",
       "  <tbody>\n",
       "    <tr>\n",
       "      <th>count</th>\n",
       "      <td>6743.000000</td>\n",
       "      <td>6743.000000</td>\n",
       "      <td>6.743000e+03</td>\n",
       "      <td>6743.000000</td>\n",
       "      <td>6743.000000</td>\n",
       "      <td>6743.000000</td>\n",
       "      <td>6.743000e+03</td>\n",
       "      <td>6743.000000</td>\n",
       "      <td>6743.000000</td>\n",
       "      <td>6743.000000</td>\n",
       "      <td>6743.000000</td>\n",
       "      <td>6743.000000</td>\n",
       "      <td>6743.000000</td>\n",
       "      <td>6743.000000</td>\n",
       "      <td>6743.000000</td>\n",
       "      <td>6743.000000</td>\n",
       "      <td>6743.000000</td>\n",
       "      <td>6743.000000</td>\n",
       "      <td>6743.000000</td>\n",
       "      <td>6743.000000</td>\n",
       "    </tr>\n",
       "    <tr>\n",
       "      <th>mean</th>\n",
       "      <td>0.691680</td>\n",
       "      <td>1.409907</td>\n",
       "      <td>1.019143e+08</td>\n",
       "      <td>0.914578</td>\n",
       "      <td>0.009418</td>\n",
       "      <td>0.979260</td>\n",
       "      <td>1.018306e+08</td>\n",
       "      <td>2.693608</td>\n",
       "      <td>2011.641109</td>\n",
       "      <td>6.805724</td>\n",
       "      <td>27.699244</td>\n",
       "      <td>15.409758</td>\n",
       "      <td>2011.640813</td>\n",
       "      <td>6.807801</td>\n",
       "      <td>27.702061</td>\n",
       "      <td>15.296456</td>\n",
       "      <td>2011.705621</td>\n",
       "      <td>6.808097</td>\n",
       "      <td>27.793415</td>\n",
       "      <td>15.762124</td>\n",
       "    </tr>\n",
       "    <tr>\n",
       "      <th>std</th>\n",
       "      <td>0.461834</td>\n",
       "      <td>0.925673</td>\n",
       "      <td>2.095233e+08</td>\n",
       "      <td>1.168330</td>\n",
       "      <td>0.013351</td>\n",
       "      <td>1.427765</td>\n",
       "      <td>2.094699e+08</td>\n",
       "      <td>1.758692</td>\n",
       "      <td>3.049271</td>\n",
       "      <td>3.417795</td>\n",
       "      <td>14.940672</td>\n",
       "      <td>8.455397</td>\n",
       "      <td>3.048652</td>\n",
       "      <td>3.418564</td>\n",
       "      <td>14.950112</td>\n",
       "      <td>8.436480</td>\n",
       "      <td>3.056587</td>\n",
       "      <td>3.402576</td>\n",
       "      <td>14.880106</td>\n",
       "      <td>8.486369</td>\n",
       "    </tr>\n",
       "    <tr>\n",
       "      <th>min</th>\n",
       "      <td>0.000000</td>\n",
       "      <td>0.000000</td>\n",
       "      <td>1.100000e+00</td>\n",
       "      <td>0.000000</td>\n",
       "      <td>-0.003740</td>\n",
       "      <td>-0.667095</td>\n",
       "      <td>1.099698e+00</td>\n",
       "      <td>0.000000</td>\n",
       "      <td>2004.000000</td>\n",
       "      <td>1.000000</td>\n",
       "      <td>1.000000</td>\n",
       "      <td>1.000000</td>\n",
       "      <td>2004.000000</td>\n",
       "      <td>1.000000</td>\n",
       "      <td>1.000000</td>\n",
       "      <td>1.000000</td>\n",
       "      <td>2004.000000</td>\n",
       "      <td>1.000000</td>\n",
       "      <td>1.000000</td>\n",
       "      <td>1.000000</td>\n",
       "    </tr>\n",
       "    <tr>\n",
       "      <th>25%</th>\n",
       "      <td>0.000000</td>\n",
       "      <td>0.000000</td>\n",
       "      <td>2.750000e+07</td>\n",
       "      <td>0.000000</td>\n",
       "      <td>0.000980</td>\n",
       "      <td>0.251105</td>\n",
       "      <td>2.749953e+07</td>\n",
       "      <td>1.000000</td>\n",
       "      <td>2010.000000</td>\n",
       "      <td>4.000000</td>\n",
       "      <td>15.000000</td>\n",
       "      <td>8.000000</td>\n",
       "      <td>2010.000000</td>\n",
       "      <td>4.000000</td>\n",
       "      <td>15.000000</td>\n",
       "      <td>8.000000</td>\n",
       "      <td>2010.000000</td>\n",
       "      <td>4.000000</td>\n",
       "      <td>15.000000</td>\n",
       "      <td>9.000000</td>\n",
       "    </tr>\n",
       "    <tr>\n",
       "      <th>50%</th>\n",
       "      <td>1.000000</td>\n",
       "      <td>2.000000</td>\n",
       "      <td>5.500000e+07</td>\n",
       "      <td>0.000000</td>\n",
       "      <td>0.004390</td>\n",
       "      <td>0.531493</td>\n",
       "      <td>5.500105e+07</td>\n",
       "      <td>4.000000</td>\n",
       "      <td>2011.000000</td>\n",
       "      <td>7.000000</td>\n",
       "      <td>28.000000</td>\n",
       "      <td>15.000000</td>\n",
       "      <td>2011.000000</td>\n",
       "      <td>7.000000</td>\n",
       "      <td>28.000000</td>\n",
       "      <td>15.000000</td>\n",
       "      <td>2011.000000</td>\n",
       "      <td>7.000000</td>\n",
       "      <td>29.000000</td>\n",
       "      <td>15.000000</td>\n",
       "    </tr>\n",
       "    <tr>\n",
       "      <th>75%</th>\n",
       "      <td>1.000000</td>\n",
       "      <td>2.000000</td>\n",
       "      <td>1.122825e+08</td>\n",
       "      <td>2.000000</td>\n",
       "      <td>0.013510</td>\n",
       "      <td>1.071188</td>\n",
       "      <td>1.122176e+08</td>\n",
       "      <td>4.000000</td>\n",
       "      <td>2014.000000</td>\n",
       "      <td>10.000000</td>\n",
       "      <td>41.000000</td>\n",
       "      <td>22.000000</td>\n",
       "      <td>2014.000000</td>\n",
       "      <td>10.000000</td>\n",
       "      <td>41.000000</td>\n",
       "      <td>22.000000</td>\n",
       "      <td>2014.000000</td>\n",
       "      <td>10.000000</td>\n",
       "      <td>41.000000</td>\n",
       "      <td>23.000000</td>\n",
       "    </tr>\n",
       "    <tr>\n",
       "      <th>max</th>\n",
       "      <td>1.000000</td>\n",
       "      <td>4.000000</td>\n",
       "      <td>1.320000e+10</td>\n",
       "      <td>4.000000</td>\n",
       "      <td>0.050880</td>\n",
       "      <td>6.379137</td>\n",
       "      <td>1.320000e+10</td>\n",
       "      <td>7.000000</td>\n",
       "      <td>2017.000000</td>\n",
       "      <td>12.000000</td>\n",
       "      <td>53.000000</td>\n",
       "      <td>31.000000</td>\n",
       "      <td>2017.000000</td>\n",
       "      <td>12.000000</td>\n",
       "      <td>53.000000</td>\n",
       "      <td>31.000000</td>\n",
       "      <td>2017.000000</td>\n",
       "      <td>12.000000</td>\n",
       "      <td>53.000000</td>\n",
       "      <td>31.000000</td>\n",
       "    </tr>\n",
       "  </tbody>\n",
       "</table>\n",
       "</div>"
      ],
      "text/plain": [
       "         office_id  pf_category          sold  country_code  euribor_rate  \\\n",
       "count  6743.000000  6743.000000  6.743000e+03   6743.000000   6743.000000   \n",
       "mean      0.691680     1.409907  1.019143e+08      0.914578      0.009418   \n",
       "std       0.461834     0.925673  2.095233e+08      1.168330      0.013351   \n",
       "min       0.000000     0.000000  1.100000e+00      0.000000     -0.003740   \n",
       "25%       0.000000     0.000000  2.750000e+07      0.000000      0.000980   \n",
       "50%       1.000000     2.000000  5.500000e+07      0.000000      0.004390   \n",
       "75%       1.000000     2.000000  1.122825e+08      2.000000      0.013510   \n",
       "max       1.000000     4.000000  1.320000e+10      4.000000      0.050880   \n",
       "\n",
       "        libor_rate        bought         type   start_year  start_month  \\\n",
       "count  6743.000000  6.743000e+03  6743.000000  6743.000000  6743.000000   \n",
       "mean      0.979260  1.018306e+08     2.693608  2011.641109     6.805724   \n",
       "std       1.427765  2.094699e+08     1.758692     3.049271     3.417795   \n",
       "min      -0.667095  1.099698e+00     0.000000  2004.000000     1.000000   \n",
       "25%       0.251105  2.749953e+07     1.000000  2010.000000     4.000000   \n",
       "50%       0.531493  5.500105e+07     4.000000  2011.000000     7.000000   \n",
       "75%       1.071188  1.122176e+08     4.000000  2014.000000    10.000000   \n",
       "max       6.379137  1.320000e+10     7.000000  2017.000000    12.000000   \n",
       "\n",
       "        start_week    start_day  creation_year  creation_month  creation_week  \\\n",
       "count  6743.000000  6743.000000    6743.000000     6743.000000    6743.000000   \n",
       "mean     27.699244    15.409758    2011.640813        6.807801      27.702061   \n",
       "std      14.940672     8.455397       3.048652        3.418564      14.950112   \n",
       "min       1.000000     1.000000    2004.000000        1.000000       1.000000   \n",
       "25%      15.000000     8.000000    2010.000000        4.000000      15.000000   \n",
       "50%      28.000000    15.000000    2011.000000        7.000000      28.000000   \n",
       "75%      41.000000    22.000000    2014.000000       10.000000      41.000000   \n",
       "max      53.000000    31.000000    2017.000000       12.000000      53.000000   \n",
       "\n",
       "       creation_day    sell_year   sell_month    sell_week     sell_day  \n",
       "count   6743.000000  6743.000000  6743.000000  6743.000000  6743.000000  \n",
       "mean      15.296456  2011.705621     6.808097    27.793415    15.762124  \n",
       "std        8.436480     3.056587     3.402576    14.880106     8.486369  \n",
       "min        1.000000  2004.000000     1.000000     1.000000     1.000000  \n",
       "25%        8.000000  2010.000000     4.000000    15.000000     9.000000  \n",
       "50%       15.000000  2011.000000     7.000000    29.000000    15.000000  \n",
       "75%       22.000000  2014.000000    10.000000    41.000000    23.000000  \n",
       "max       31.000000  2017.000000    12.000000    53.000000    31.000000  "
      ]
     },
     "execution_count": 1864,
     "metadata": {},
     "output_type": "execute_result"
    }
   ],
   "source": [
    "x_train.describe()"
   ]
  },
  {
   "cell_type": "code",
   "execution_count": 1865,
   "metadata": {},
   "outputs": [],
   "source": [
    "import xgboost as xgb"
   ]
  },
  {
   "cell_type": "code",
   "execution_count": 1866,
   "metadata": {},
   "outputs": [],
   "source": [
    "from sklearn.metrics import r2_score"
   ]
  },
  {
   "cell_type": "code",
   "execution_count": 1867,
   "metadata": {},
   "outputs": [
    {
     "name": "stdout",
     "output_type": "stream",
     "text": [
      "[0]\ttrain-rmse:0.437628\teval-rmse:0.437769\n",
      "[1]\ttrain-rmse:0.393907\teval-rmse:0.39401\n",
      "[2]\ttrain-rmse:0.354547\teval-rmse:0.354635\n",
      "[3]\ttrain-rmse:0.319134\teval-rmse:0.319202\n",
      "[4]\ttrain-rmse:0.287272\teval-rmse:0.287319\n",
      "[5]\ttrain-rmse:0.258601\teval-rmse:0.258632\n",
      "[6]\ttrain-rmse:0.232796\teval-rmse:0.232811\n",
      "[7]\ttrain-rmse:0.209584\teval-rmse:0.209566\n",
      "[8]\ttrain-rmse:0.188676\teval-rmse:0.188644\n",
      "[9]\ttrain-rmse:0.169878\teval-rmse:0.16982\n",
      "[10]\ttrain-rmse:0.15297\teval-rmse:0.152886\n",
      "[11]\ttrain-rmse:0.137763\teval-rmse:0.137651\n",
      "[12]\ttrain-rmse:0.124086\teval-rmse:0.123939\n",
      "[13]\ttrain-rmse:0.111777\teval-rmse:0.111588\n",
      "[14]\ttrain-rmse:0.100703\teval-rmse:0.100473\n",
      "[15]\ttrain-rmse:0.090749\teval-rmse:0.090483\n",
      "[16]\ttrain-rmse:0.081805\teval-rmse:0.08149\n",
      "[17]\ttrain-rmse:0.073772\teval-rmse:0.073405\n",
      "[18]\ttrain-rmse:0.066554\teval-rmse:0.066137\n",
      "[19]\ttrain-rmse:0.060061\teval-rmse:0.059588\n",
      "[20]\ttrain-rmse:0.054231\teval-rmse:0.053699\n",
      "[21]\ttrain-rmse:0.049005\teval-rmse:0.048399\n",
      "[22]\ttrain-rmse:0.044318\teval-rmse:0.043658\n",
      "[23]\ttrain-rmse:0.040122\teval-rmse:0.039401\n",
      "[24]\ttrain-rmse:0.036368\teval-rmse:0.035572\n",
      "[25]\ttrain-rmse:0.033016\teval-rmse:0.032125\n",
      "[26]\ttrain-rmse:0.02982\teval-rmse:0.029038\n",
      "[27]\ttrain-rmse:0.02694\teval-rmse:0.02638\n",
      "[28]\ttrain-rmse:0.024535\teval-rmse:0.023911\n",
      "[29]\ttrain-rmse:0.02222\teval-rmse:0.021694\n",
      "[30]\ttrain-rmse:0.020307\teval-rmse:0.019719\n",
      "[31]\ttrain-rmse:0.018435\teval-rmse:0.017948\n",
      "[32]\ttrain-rmse:0.016852\teval-rmse:0.016375\n",
      "[33]\ttrain-rmse:0.015321\teval-rmse:0.014982\n",
      "[34]\ttrain-rmse:0.014108\teval-rmse:0.013767\n",
      "[35]\ttrain-rmse:0.013061\teval-rmse:0.012688\n",
      "[36]\ttrain-rmse:0.012142\teval-rmse:0.011724\n",
      "[37]\ttrain-rmse:0.011339\teval-rmse:0.010885\n",
      "[38]\ttrain-rmse:0.01065\teval-rmse:0.010165\n",
      "[39]\ttrain-rmse:0.010059\teval-rmse:0.009533\n",
      "[40]\ttrain-rmse:0.00952\teval-rmse:0.008996\n",
      "[41]\ttrain-rmse:0.009086\teval-rmse:0.008529\n",
      "[42]\ttrain-rmse:0.008717\teval-rmse:0.008134\n",
      "[43]\ttrain-rmse:0.008393\teval-rmse:0.007785\n",
      "[44]\ttrain-rmse:0.008101\teval-rmse:0.007511\n",
      "[45]\ttrain-rmse:0.007582\teval-rmse:0.007466\n",
      "[46]\ttrain-rmse:0.007335\teval-rmse:0.007307\n",
      "[47]\ttrain-rmse:0.007128\teval-rmse:0.007198\n",
      "[48]\ttrain-rmse:0.006982\teval-rmse:0.007057\n",
      "[49]\ttrain-rmse:0.006867\teval-rmse:0.006939\n",
      "[50]\ttrain-rmse:0.006764\teval-rmse:0.006845\n",
      "[51]\ttrain-rmse:0.006582\teval-rmse:0.006875\n",
      "[52]\ttrain-rmse:0.006503\teval-rmse:0.006801\n",
      "[53]\ttrain-rmse:0.006448\teval-rmse:0.006745\n",
      "[54]\ttrain-rmse:0.006395\teval-rmse:0.006676\n",
      "[55]\ttrain-rmse:0.006346\teval-rmse:0.006637\n",
      "[56]\ttrain-rmse:0.006259\teval-rmse:0.006665\n",
      "[57]\ttrain-rmse:0.006148\teval-rmse:0.006635\n",
      "[58]\ttrain-rmse:0.005818\teval-rmse:0.006843\n",
      "[59]\ttrain-rmse:0.005791\teval-rmse:0.006824\n",
      "[60]\ttrain-rmse:0.005766\teval-rmse:0.006803\n",
      "[61]\ttrain-rmse:0.005508\teval-rmse:0.007135\n",
      "[62]\ttrain-rmse:0.005285\teval-rmse:0.007414\n",
      "[63]\ttrain-rmse:0.005268\teval-rmse:0.007392\n",
      "[64]\ttrain-rmse:0.005254\teval-rmse:0.007384\n",
      "[65]\ttrain-rmse:0.005193\teval-rmse:0.007401\n",
      "[66]\ttrain-rmse:0.005095\teval-rmse:0.007539\n",
      "[67]\ttrain-rmse:0.005082\teval-rmse:0.007533\n",
      "[68]\ttrain-rmse:0.005072\teval-rmse:0.007525\n",
      "[69]\ttrain-rmse:0.005061\teval-rmse:0.007515\n",
      "[70]\ttrain-rmse:0.005027\teval-rmse:0.007521\n",
      "[71]\ttrain-rmse:0.005015\teval-rmse:0.007518\n",
      "[72]\ttrain-rmse:0.004969\teval-rmse:0.007592\n",
      "[73]\ttrain-rmse:0.004878\teval-rmse:0.007595\n",
      "[74]\ttrain-rmse:0.004871\teval-rmse:0.007583\n",
      "[75]\ttrain-rmse:0.004893\teval-rmse:0.007564\n",
      "[76]\ttrain-rmse:0.004887\teval-rmse:0.00755\n",
      "[77]\ttrain-rmse:0.004764\teval-rmse:0.007556\n",
      "[78]\ttrain-rmse:0.004747\teval-rmse:0.007568\n",
      "[79]\ttrain-rmse:0.004739\teval-rmse:0.007564\n",
      "[80]\ttrain-rmse:0.004676\teval-rmse:0.00758\n",
      "[81]\ttrain-rmse:0.004669\teval-rmse:0.007569\n",
      "[82]\ttrain-rmse:0.004666\teval-rmse:0.007568\n",
      "[83]\ttrain-rmse:0.004653\teval-rmse:0.007565\n",
      "[84]\ttrain-rmse:0.004485\teval-rmse:0.007868\n",
      "[85]\ttrain-rmse:0.004465\teval-rmse:0.007866\n",
      "[86]\ttrain-rmse:0.004455\teval-rmse:0.007867\n",
      "[87]\ttrain-rmse:0.004404\teval-rmse:0.007892\n",
      "[88]\ttrain-rmse:0.004388\teval-rmse:0.007898\n",
      "[89]\ttrain-rmse:0.004382\teval-rmse:0.007896\n",
      "[90]\ttrain-rmse:0.004376\teval-rmse:0.007896\n",
      "[91]\ttrain-rmse:0.004356\teval-rmse:0.007896\n",
      "[92]\ttrain-rmse:0.004348\teval-rmse:0.007896\n",
      "[93]\ttrain-rmse:0.004191\teval-rmse:0.00812\n",
      "[94]\ttrain-rmse:0.003987\teval-rmse:0.008152\n",
      "[95]\ttrain-rmse:0.003954\teval-rmse:0.008149\n",
      "[96]\ttrain-rmse:0.003908\teval-rmse:0.00822\n",
      "[97]\ttrain-rmse:0.003904\teval-rmse:0.008219\n",
      "[98]\ttrain-rmse:0.003854\teval-rmse:0.008291\n",
      "[99]\ttrain-rmse:0.003849\teval-rmse:0.00829\n",
      "[100]\ttrain-rmse:0.003823\teval-rmse:0.008289\n",
      "[101]\ttrain-rmse:0.003783\teval-rmse:0.008318\n",
      "[102]\ttrain-rmse:0.003774\teval-rmse:0.008315\n",
      "[103]\ttrain-rmse:0.003721\teval-rmse:0.008411\n",
      "[104]\ttrain-rmse:0.003718\teval-rmse:0.00841\n",
      "[105]\ttrain-rmse:0.003675\teval-rmse:0.008406\n",
      "[106]\ttrain-rmse:0.003646\teval-rmse:0.008434\n",
      "[107]\ttrain-rmse:0.003641\teval-rmse:0.008433\n",
      "[108]\ttrain-rmse:0.003632\teval-rmse:0.008443\n",
      "[109]\ttrain-rmse:0.003626\teval-rmse:0.008443\n",
      "[110]\ttrain-rmse:0.003621\teval-rmse:0.008444\n",
      "[111]\ttrain-rmse:0.003595\teval-rmse:0.008445\n",
      "[112]\ttrain-rmse:0.003591\teval-rmse:0.008442\n",
      "[113]\ttrain-rmse:0.003585\teval-rmse:0.00844\n",
      "[114]\ttrain-rmse:0.003582\teval-rmse:0.008441\n",
      "[115]\ttrain-rmse:0.003575\teval-rmse:0.008441\n",
      "[116]\ttrain-rmse:0.003548\teval-rmse:0.008439\n",
      "[117]\ttrain-rmse:0.003543\teval-rmse:0.008438\n",
      "[118]\ttrain-rmse:0.003523\teval-rmse:0.008438\n",
      "[119]\ttrain-rmse:0.003501\teval-rmse:0.008441\n",
      "[120]\ttrain-rmse:0.003495\teval-rmse:0.008435\n",
      "[121]\ttrain-rmse:0.003437\teval-rmse:0.008436\n",
      "[122]\ttrain-rmse:0.003425\teval-rmse:0.008437\n",
      "[123]\ttrain-rmse:0.00339\teval-rmse:0.008525\n",
      "[124]\ttrain-rmse:0.003373\teval-rmse:0.008524\n",
      "[125]\ttrain-rmse:0.003384\teval-rmse:0.008529\n",
      "[126]\ttrain-rmse:0.003382\teval-rmse:0.008529\n",
      "[127]\ttrain-rmse:0.003344\teval-rmse:0.008526\n",
      "[128]\ttrain-rmse:0.003335\teval-rmse:0.008524\n",
      "[129]\ttrain-rmse:0.003331\teval-rmse:0.008524\n",
      "[130]\ttrain-rmse:0.003303\teval-rmse:0.008531\n",
      "[131]\ttrain-rmse:0.0033\teval-rmse:0.008529\n",
      "[132]\ttrain-rmse:0.003298\teval-rmse:0.008528\n",
      "[133]\ttrain-rmse:0.003294\teval-rmse:0.008528\n",
      "[134]\ttrain-rmse:0.003292\teval-rmse:0.008528\n",
      "[135]\ttrain-rmse:0.003288\teval-rmse:0.008525\n",
      "[136]\ttrain-rmse:0.003288\teval-rmse:0.008534\n",
      "[137]\ttrain-rmse:0.003287\teval-rmse:0.008533\n",
      "[138]\ttrain-rmse:0.00327\teval-rmse:0.008531\n",
      "[139]\ttrain-rmse:0.00327\teval-rmse:0.008531\n",
      "[140]\ttrain-rmse:0.003243\teval-rmse:0.008532\n",
      "[141]\ttrain-rmse:0.003245\teval-rmse:0.008531\n",
      "[142]\ttrain-rmse:0.003237\teval-rmse:0.008531\n",
      "[143]\ttrain-rmse:0.003126\teval-rmse:0.00853\n",
      "[144]\ttrain-rmse:0.003115\teval-rmse:0.008533\n",
      "[145]\ttrain-rmse:0.0031\teval-rmse:0.008537\n",
      "[146]\ttrain-rmse:0.003094\teval-rmse:0.008512\n",
      "[147]\ttrain-rmse:0.003093\teval-rmse:0.008511\n",
      "[148]\ttrain-rmse:0.003088\teval-rmse:0.008511\n",
      "[149]\ttrain-rmse:0.003053\teval-rmse:0.008508\n"
     ]
    }
   ],
   "source": [
    "params = {\"objective\":\"reg:linear\",\n",
    "          \"booster\":\"dart\",\n",
    "          \"eta\":0.1,\n",
    "          \"max_depth\": 5,\n",
    "         \"subsample\":0.85,\n",
    "         \"silent\":0,\n",
    "         \"seed\":0,\n",
    "         \"lambda\":0.2,\n",
    "         \"alpha\":0.01,\n",
    "         'skip_drop': 0.5,\n",
    "         \"eval_metric\":\"rmse\"}\n",
    "\n",
    "num_boost_round = 150\n",
    "\n",
    "dtrain = xgb.DMatrix(x_train, y_train)\n",
    "dvalid = xgb.DMatrix(x_val, y_val)\n",
    "\n",
    "watchlist = [(dtrain, 'train'), (dvalid, 'eval')]\n",
    "\n",
    "booster = xgb.train(params, dtrain, num_boost_round, evals = watchlist)"
   ]
  },
  {
   "cell_type": "code",
   "execution_count": 1868,
   "metadata": {},
   "outputs": [],
   "source": [
    "xgb_pred_train = booster.predict(xgb.DMatrix(x_train))\n",
    "xgb_pred_val = booster.predict(xgb.DMatrix(x_val))\n",
    "xgb_pred_test = booster.predict(xgb.DMatrix(x_test))"
   ]
  },
  {
   "cell_type": "code",
   "execution_count": 1869,
   "metadata": {},
   "outputs": [
    {
     "name": "stdout",
     "output_type": "stream",
     "text": [
      "R2-score (XGB) = 0.97563093256\n"
     ]
    }
   ],
   "source": [
    "print('R2-score (XGB) =', r2_score(y_test, xgb_pred_test))"
   ]
  },
  {
   "cell_type": "code",
   "execution_count": 1870,
   "metadata": {},
   "outputs": [],
   "source": [
    "residuals = []\n",
    "for i in range(len(y_test)):\n",
    "    residuals.append(y_test[i]-xgb_pred_test[i])"
   ]
  },
  {
   "cell_type": "code",
   "execution_count": 1877,
   "metadata": {},
   "outputs": [
    {
     "data": {
      "image/png": "[encoded data removed]",
      "text/plain": [
       "<matplotlib.figure.Figure at 0x7f84a8566da0>"
      ]
     },
     "metadata": {},
     "output_type": "display_data"
    }
   ],
   "source": [
    "plt.figure(figsize = (12,8))\n",
    "plt.scatter(y_test, residuals)\n",
    "plt.title('Residuals of test set')\n",
    "plt.xlabel('y_test')\n",
    "plt.ylabel('residuals')\n",
    "plt.show()"
   ]
  },
  {
   "cell_type": "code",
   "execution_count": 1872,
   "metadata": {},
   "outputs": [],
   "source": [
    "prediction = booster.predict(xgb.DMatrix(test_set))\n",
    "submission['return'] = pd.DataFrame({'return':prediction})"
   ]
  },
  {
   "cell_type": "code",
   "execution_count": 1873,
   "metadata": {},
   "outputs": [
    {
     "data": {
      "text/html": [
       "<div>\n",
       "<style>\n",
       "    .dataframe thead tr:only-child th {\n",
       "        text-align: right;\n",
       "    }\n",
       "\n",
       "    .dataframe thead th {\n",
       "        text-align: left;\n",
       "    }\n",
       "\n",
       "    .dataframe tbody tr th {\n",
       "        vertical-align: top;\n",
       "    }\n",
       "</style>\n",
       "<table border=\"1\" class=\"dataframe\">\n",
       "  <thead>\n",
       "    <tr style=\"text-align: right;\">\n",
       "      <th></th>\n",
       "      <th>portfolio_id</th>\n",
       "      <th>return</th>\n",
       "    </tr>\n",
       "  </thead>\n",
       "  <tbody>\n",
       "    <tr>\n",
       "      <th>0</th>\n",
       "      <td>PF00001001</td>\n",
       "      <td>0.023959</td>\n",
       "    </tr>\n",
       "    <tr>\n",
       "      <th>1</th>\n",
       "      <td>PF00001004</td>\n",
       "      <td>0.022623</td>\n",
       "    </tr>\n",
       "    <tr>\n",
       "      <th>2</th>\n",
       "      <td>PF00001009</td>\n",
       "      <td>0.027459</td>\n",
       "    </tr>\n",
       "    <tr>\n",
       "      <th>3</th>\n",
       "      <td>PF00001013</td>\n",
       "      <td>0.029080</td>\n",
       "    </tr>\n",
       "    <tr>\n",
       "      <th>4</th>\n",
       "      <td>PF00001014</td>\n",
       "      <td>0.024796</td>\n",
       "    </tr>\n",
       "  </tbody>\n",
       "</table>\n",
       "</div>"
      ],
      "text/plain": [
       "  portfolio_id    return\n",
       "0   PF00001001  0.023959\n",
       "1   PF00001004  0.022623\n",
       "2   PF00001009  0.027459\n",
       "3   PF00001013  0.029080\n",
       "4   PF00001014  0.024796"
      ]
     },
     "execution_count": 1873,
     "metadata": {},
     "output_type": "execute_result"
    }
   ],
   "source": [
    "submission.head()"
   ]
  },
  {
   "cell_type": "code",
   "execution_count": 1874,
   "metadata": {},
   "outputs": [],
   "source": [
    "submission.to_csv('sub5.csv', index = False)"
   ]
  },
  {
   "cell_type": "code",
   "execution_count": 1875,
   "metadata": {},
   "outputs": [
    {
     "data": {
      "image/png": "[encoded data removed]",
      "text/plain": [
       "<matplotlib.figure.Figure at 0x7f84b4c4add8>"
      ]
     },
     "metadata": {},
     "output_type": "display_data"
    }
   ],
   "source": [
    "plt.plot(y_train)\n",
    "plt.show()"
   ]
  },
  {
   "cell_type": "code",
   "execution_count": null,
   "metadata": {},
   "outputs": [],
   "source": []
  }
 ],
 "metadata": {
  "kernelspec": {
   "display_name": "Python 3",
   "language": "python",
   "name": "python3"
  },
  "language_info": {
   "codemirror_mode": {
    "name": "ipython",
    "version": 3
   },
   "file_extension": ".py",
   "mimetype": "text/x-python",
   "name": "python",
   "nbconvert_exporter": "python",
   "pygments_lexer": "ipython3",
   "version": "3.5.2"
  }
 },
 "nbformat": 4,
 "nbformat_minor": 2
}
